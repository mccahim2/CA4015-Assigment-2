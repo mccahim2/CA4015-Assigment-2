{
 "cells": [
  {
   "cell_type": "markdown",
   "metadata": {},
   "source": [
    "# Assignment 2: AutoML vs Ensembles in Biochemistry"
   ]
  },
  {
   "cell_type": "markdown",
   "metadata": {},
   "source": [
    "Traditional Machine Learning Workflow is Data acquisition, Data Exploration, Data Preparation, Feature Engineering, Model Selection, Model Training, Hyper Parameter Tuning and Predictions. Using Automated Machine Learning, the only workflow required is "
   ]
  },
  {
   "cell_type": "markdown",
   "metadata": {},
   "source": [
    "There are 3 different types of AutoML that will be tested.\n",
    "\n",
    "These are HyperOPT, TPOT and SKLearn"
   ]
  },
  {
   "cell_type": "markdown",
   "metadata": {},
   "source": [
    "From looking at the data I have decided to try and predict Chemical classes using SA scores and to predict Strain based on Strain based on the Compound scores"
   ]
  },
  {
   "cell_type": "code",
   "execution_count": 1,
   "metadata": {},
   "outputs": [],
   "source": [
    "import pandas as pd\n",
    "import numpy as np"
   ]
  },
  {
   "cell_type": "markdown",
   "metadata": {},
   "source": [
    "Read in chemical class"
   ]
  },
  {
   "cell_type": "markdown",
   "metadata": {},
   "source": [
    "Read in Strain data"
   ]
  },
  {
   "cell_type": "code",
   "execution_count": 2,
   "metadata": {},
   "outputs": [
    {
     "data": {
      "text/html": [
       "<div>\n",
       "<style scoped>\n",
       "    .dataframe tbody tr th:only-of-type {\n",
       "        vertical-align: middle;\n",
       "    }\n",
       "\n",
       "    .dataframe tbody tr th {\n",
       "        vertical-align: top;\n",
       "    }\n",
       "\n",
       "    .dataframe thead th {\n",
       "        text-align: right;\n",
       "    }\n",
       "</style>\n",
       "<table border=\"1\" class=\"dataframe\">\n",
       "  <thead>\n",
       "    <tr style=\"text-align: right;\">\n",
       "      <th></th>\n",
       "      <th>Strain</th>\n",
       "      <th>Ethyl Acetate</th>\n",
       "      <th>Ethanol</th>\n",
       "      <th>Propanoic acid, ethyl ester</th>\n",
       "      <th>2-Pentanone</th>\n",
       "      <th>Decane</th>\n",
       "      <th>Methyl Isobutyl Ketone</th>\n",
       "      <th>Amylene hydrate</th>\n",
       "      <th>Butanoic acid, 2-methyl-, methyl ester</th>\n",
       "      <th>Isobutyl acetate</th>\n",
       "      <th>...</th>\n",
       "      <th>1-Dodecanol</th>\n",
       "      <th>Methyl tetradecanoate</th>\n",
       "      <th>2-Pentadecanone</th>\n",
       "      <th>Tetradecanoic acid, ethyl ester</th>\n",
       "      <th>Hexadecanal</th>\n",
       "      <th>n-Tridecan-1-ol</th>\n",
       "      <th>1-Tetradecanol</th>\n",
       "      <th>n-Pentadecanol</th>\n",
       "      <th>1-Hexadecanol</th>\n",
       "      <th>Indole</th>\n",
       "    </tr>\n",
       "  </thead>\n",
       "  <tbody>\n",
       "    <tr>\n",
       "      <th>0</th>\n",
       "      <td>SA_A</td>\n",
       "      <td>465374.0</td>\n",
       "      <td>1027715</td>\n",
       "      <td>NaN</td>\n",
       "      <td>1289650</td>\n",
       "      <td>800581</td>\n",
       "      <td>324424.0</td>\n",
       "      <td>73015</td>\n",
       "      <td>NaN</td>\n",
       "      <td>NaN</td>\n",
       "      <td>...</td>\n",
       "      <td>NaN</td>\n",
       "      <td>NaN</td>\n",
       "      <td>NaN</td>\n",
       "      <td>NaN</td>\n",
       "      <td>NaN</td>\n",
       "      <td>NaN</td>\n",
       "      <td>NaN</td>\n",
       "      <td>NaN</td>\n",
       "      <td>NaN</td>\n",
       "      <td>NaN</td>\n",
       "    </tr>\n",
       "  </tbody>\n",
       "</table>\n",
       "<p>1 rows × 68 columns</p>\n",
       "</div>"
      ],
      "text/plain": [
       "  Strain   Ethyl Acetate  Ethanol  Propanoic acid, ethyl ester  2-Pentanone  \\\n",
       "0   SA_A        465374.0  1027715                          NaN      1289650   \n",
       "\n",
       "   Decane  Methyl Isobutyl Ketone  Amylene hydrate  \\\n",
       "0  800581                324424.0            73015   \n",
       "\n",
       "   Butanoic acid, 2-methyl-, methyl ester  Isobutyl acetate  ...  1-Dodecanol  \\\n",
       "0                                     NaN               NaN  ...          NaN   \n",
       "\n",
       "   Methyl tetradecanoate   2-Pentadecanone  Tetradecanoic acid, ethyl ester  \\\n",
       "0                    NaN               NaN                              NaN   \n",
       "\n",
       "   Hexadecanal  n-Tridecan-1-ol  1-Tetradecanol  n-Pentadecanol  \\\n",
       "0          NaN              NaN             NaN             NaN   \n",
       "\n",
       "    1-Hexadecanol  Indole  \n",
       "0             NaN     NaN  \n",
       "\n",
       "[1 rows x 68 columns]"
      ]
     },
     "execution_count": 2,
     "metadata": {},
     "output_type": "execute_result"
    }
   ],
   "source": [
    "strain = pd.read_csv(\"data/strain.csv\")\n",
    "strain.head(1)"
   ]
  },
  {
   "cell_type": "code",
   "execution_count": 5,
   "metadata": {},
   "outputs": [
    {
     "data": {
      "text/plain": [
       "(84, 68)"
      ]
     },
     "execution_count": 5,
     "metadata": {},
     "output_type": "execute_result"
    }
   ],
   "source": [
    "strain.shape"
   ]
  },
  {
   "cell_type": "markdown",
   "metadata": {},
   "source": [
    "### General Data Cleaning"
   ]
  },
  {
   "cell_type": "code",
   "execution_count": 3,
   "metadata": {},
   "outputs": [
    {
     "data": {
      "text/plain": [
       "2699"
      ]
     },
     "execution_count": 3,
     "metadata": {},
     "output_type": "execute_result"
    }
   ],
   "source": [
    "strain.isna().sum().sum()"
   ]
  },
  {
   "cell_type": "markdown",
   "metadata": {},
   "source": [
    "Due to a lot of null valuesUsing Tr, I will fill all null values with 0"
   ]
  },
  {
   "cell_type": "code",
   "execution_count": 3,
   "metadata": {},
   "outputs": [],
   "source": [
    "strain = strain.fillna(0)"
   ]
  },
  {
   "cell_type": "code",
   "execution_count": 5,
   "metadata": {},
   "outputs": [
    {
     "data": {
      "text/plain": [
       "0"
      ]
     },
     "execution_count": 5,
     "metadata": {},
     "output_type": "execute_result"
    }
   ],
   "source": [
    "strain.isna().sum().sum()"
   ]
  },
  {
   "cell_type": "markdown",
   "metadata": {},
   "source": [
    "##### Spltting data into training and test set\n",
    "\n",
    "I will do an 80/20 split: 80% of the data for training and 20% for testing"
   ]
  },
  {
   "cell_type": "code",
   "execution_count": 6,
   "metadata": {},
   "outputs": [],
   "source": [
    "strain_train = strain.sample(frac = 0.8)\n",
    "strain_test = strain.drop(strain_train.index)\n",
    "\n",
    "strain_train_x = strain_train.drop([\"Strain\"], axis=1)\n",
    "strain_train_y = strain_train[\"Strain\"]\n",
    "\n",
    "strain_test_x = strain_test.drop([\"Strain\"], axis=1)\n",
    "strain_test_y = strain_test[\"Strain\"]"
   ]
  },
  {
   "cell_type": "markdown",
   "metadata": {},
   "source": [
    "### AutoML work"
   ]
  },
  {
   "cell_type": "markdown",
   "metadata": {},
   "source": [
    "For the AutoML section of this paper I will use the 3 AutoML approaches above and use the results for the best one."
   ]
  },
  {
   "cell_type": "markdown",
   "metadata": {},
   "source": [
    "AutoML Baseline"
   ]
  },
  {
   "cell_type": "code",
   "execution_count": 26,
   "metadata": {},
   "outputs": [
    {
     "name": "stdout",
     "output_type": "stream",
     "text": [
      "AutoML directory: AutoML_17\n",
      "The task is multiclass_classification with evaluation metric logloss\n",
      "AutoML will use algorithms: ['Baseline', 'Linear', 'Decision Tree', 'Random Forest', 'Xgboost', 'Neural Network']\n",
      "AutoML will ensemble available models\n"
     ]
    },
    {
     "name": "stderr",
     "output_type": "stream",
     "text": [
      "Tight layout not applied. The left and right margins cannot be made large enough to accommodate all axes decorations. \n"
     ]
    },
    {
     "name": "stdout",
     "output_type": "stream",
     "text": [
      "AutoML steps: ['simple_algorithms', 'default_algorithms', 'ensemble']\n",
      "* Step simple_algorithms will try to check up to 3 models\n",
      "1_Baseline logloss 1.791759 trained in 0.37 seconds\n",
      "2_DecisionTree logloss 0.354287 trained in 19.33 seconds\n",
      "3_Linear logloss 0.38279 trained in 11.92 seconds\n",
      "* Step default_algorithms will try to check up to 3 models\n",
      "4_Default_Xgboost logloss 0.262346 trained in 22.6 seconds\n",
      "5_Default_NeuralNetwork logloss 0.749168 trained in 1.37 seconds\n",
      "6_Default_RandomForest logloss 0.69714 trained in 16.16 seconds\n",
      "* Step ensemble will try to check up to 1 model\n",
      "Ensemble logloss 0.2505 trained in 0.23 seconds\n",
      "AutoML fit time: 105.05 seconds\n",
      "AutoML best model: Ensemble\n"
     ]
    },
    {
     "data": {
      "text/plain": [
       "AutoML(total_time_limit=300)"
      ]
     },
     "execution_count": 26,
     "metadata": {},
     "output_type": "execute_result"
    }
   ],
   "source": [
    "from supervised.automl import AutoML\n",
    "automl = AutoML(total_time_limit=5*60)\n",
    "automl.fit(strain_train_x, strain_train_y)"
   ]
  },
  {
   "cell_type": "code",
   "execution_count": 27,
   "metadata": {},
   "outputs": [],
   "source": [
    "y_predicted = automl.predict(strain_test_x)"
   ]
  },
  {
   "cell_type": "code",
   "execution_count": 28,
   "metadata": {},
   "outputs": [
    {
     "name": "stdout",
     "output_type": "stream",
     "text": [
      "    Predicted  Target\n",
      "0           1       1\n",
      "1           1       2\n",
      "2           1       1\n",
      "3           1       1\n",
      "4           2       2\n",
      "5           3       3\n",
      "6           3       3\n",
      "7           4       4\n",
      "8           5       6\n",
      "9           6       5\n",
      "10          5       5\n",
      "11          6       6\n",
      "12          6       6\n",
      "13          5       5\n",
      "14          6       5\n",
      "15          6       5\n",
      "16          6       6\n"
     ]
    }
   ],
   "source": [
    "predicted_strain = pd.DataFrame(y_predicted, columns=[\"PredictedStrain\"])\n",
    "print(pd.DataFrame({\"Predicted\": predicted_strain[\"PredictedStrain\"], \"Target\": np.array(strain_test_y)}))"
   ]
  },
  {
   "cell_type": "code",
   "execution_count": 33,
   "metadata": {},
   "outputs": [
    {
     "name": "stdout",
     "output_type": "stream",
     "text": [
      "70.58823529411765\n"
     ]
    }
   ],
   "source": [
    "# Accuracy = no correct answers / number of targets\n",
    "accuracy = 12/17\n",
    "print(accuracy*100)"
   ]
  },
  {
   "cell_type": "markdown",
   "metadata": {},
   "source": [
    "70.59% accuracy"
   ]
  },
  {
   "cell_type": "code",
   "execution_count": 29,
   "metadata": {},
   "outputs": [
    {
     "name": "stdout",
     "output_type": "stream",
     "text": [
      "AutoML directory: AutoML_18\n",
      "The task is multiclass_classification with evaluation metric logloss\n",
      "AutoML will use algorithms: ['Decision Tree', 'Linear', 'Random Forest']\n",
      "AutoML will ensemble available models\n"
     ]
    },
    {
     "name": "stderr",
     "output_type": "stream",
     "text": [
      "Tight layout not applied. The left and right margins cannot be made large enough to accommodate all axes decorations. \n"
     ]
    },
    {
     "name": "stdout",
     "output_type": "stream",
     "text": [
      "AutoML steps: ['simple_algorithms', 'default_algorithms', 'ensemble']\n",
      "* Step simple_algorithms will try to check up to 2 models\n",
      "1_DecisionTree logloss 0.354287 trained in 13.9 seconds\n",
      "2_Linear logloss 0.38279 trained in 11.87 seconds\n",
      "* Step default_algorithms will try to check up to 1 model\n",
      "3_Default_RandomForest logloss 0.693151 trained in 15.96 seconds\n",
      "* Step ensemble will try to check up to 1 model\n",
      "Ensemble logloss 0.261314 trained in 0.15 seconds\n",
      "AutoML fit time: 70.36 seconds\n",
      "AutoML best model: Ensemble\n"
     ]
    },
    {
     "data": {
      "text/plain": [
       "AutoML(algorithms=['Decision Tree', 'Linear', 'Random Forest'],\n",
       "       total_time_limit=300)"
      ]
     },
     "execution_count": 29,
     "metadata": {},
     "output_type": "execute_result"
    }
   ],
   "source": [
    "from supervised.automl import AutoML\n",
    "automl = AutoML(algorithms=[\"Decision Tree\", \"Linear\", \"Random Forest\"],\n",
    "                total_time_limit=5*60)\n",
    "automl.fit(strain_train_x, strain_train_y)"
   ]
  },
  {
   "cell_type": "code",
   "execution_count": 30,
   "metadata": {},
   "outputs": [],
   "source": [
    "y_predicted = automl.predict(strain_test_x)"
   ]
  },
  {
   "cell_type": "code",
   "execution_count": 31,
   "metadata": {},
   "outputs": [
    {
     "name": "stdout",
     "output_type": "stream",
     "text": [
      "    Predicted  Target\n",
      "0           1       1\n",
      "1           2       2\n",
      "2           1       1\n",
      "3           1       1\n",
      "4           2       2\n",
      "5           3       3\n",
      "6           3       3\n",
      "7           4       4\n",
      "8           5       6\n",
      "9           6       5\n",
      "10          5       5\n",
      "11          6       6\n",
      "12          6       6\n",
      "13          6       5\n",
      "14          6       5\n",
      "15          5       5\n",
      "16          6       6\n"
     ]
    }
   ],
   "source": [
    "predicted_strain = pd.DataFrame(y_predicted, columns=[\"PredictedStrain\"])\n",
    "print(pd.DataFrame({\"Predicted\": predicted_strain[\"PredictedStrain\"], \"Target\": np.array(strain_test_y)}))"
   ]
  },
  {
   "cell_type": "code",
   "execution_count": 38,
   "metadata": {},
   "outputs": [
    {
     "name": "stdout",
     "output_type": "stream",
     "text": [
      "76.47058823529412\n"
     ]
    }
   ],
   "source": [
    "# Accuracy = no correct answers / number of targets\n",
    "accuracy = 13/17\n",
    "print(accuracy*100)"
   ]
  },
  {
   "cell_type": "markdown",
   "metadata": {},
   "source": [
    "76.57 % accuracy for predicting strain"
   ]
  },
  {
   "cell_type": "markdown",
   "metadata": {},
   "source": [
    "#### TPot"
   ]
  },
  {
   "cell_type": "markdown",
   "metadata": {},
   "source": [
    "For TPot it assumes that data will be in numerical formats. Train_y data and test_y data will needed to be changed."
   ]
  },
  {
   "cell_type": "markdown",
   "metadata": {},
   "source": [
    "#### Data Cleaning for TPot AutoML"
   ]
  },
  {
   "cell_type": "code",
   "execution_count": 5,
   "metadata": {},
   "outputs": [
    {
     "data": {
      "text/plain": [
       "SA_A    15\n",
       "SA_B    15\n",
       "PA_A    14\n",
       "EC_A    14\n",
       "PA_B    13\n",
       "EC_B    13\n",
       "Name: Strain, dtype: int64"
      ]
     },
     "execution_count": 5,
     "metadata": {},
     "output_type": "execute_result"
    }
   ],
   "source": [
    "strain[\"Strain\"].value_counts()"
   ]
  },
  {
   "cell_type": "code",
   "execution_count": 4,
   "metadata": {},
   "outputs": [],
   "source": [
    "strain[\"Strain\"] = strain[\"Strain\"].replace([\"SA_A\", \"SA_B\", \"PA_A\", \"PA_B\", \"EC_A\", \"EC_B\"], [1, 2, 3, 4, 5, 6])"
   ]
  },
  {
   "cell_type": "code",
   "execution_count": 9,
   "metadata": {},
   "outputs": [
    {
     "data": {
      "text/plain": [
       "1    15\n",
       "2    15\n",
       "3    14\n",
       "5    14\n",
       "4    13\n",
       "6    13\n",
       "Name: Strain, dtype: int64"
      ]
     },
     "execution_count": 9,
     "metadata": {},
     "output_type": "execute_result"
    }
   ],
   "source": [
    "strain[\"Strain\"].value_counts()"
   ]
  },
  {
   "cell_type": "code",
   "execution_count": 9,
   "metadata": {},
   "outputs": [],
   "source": [
    "strain_train = strain.sample(frac = 0.8)\n",
    "strain_test = strain.drop(strain_train.index)\n",
    "\n",
    "strain_train_x = strain_train.drop([\"Strain\"], axis=1)\n",
    "strain_train_y = strain_train[\"Strain\"]\n",
    "\n",
    "strain_test_x = strain_test.drop([\"Strain\"], axis=1)\n",
    "strain_test_y = strain_test[\"Strain\"]"
   ]
  },
  {
   "cell_type": "code",
   "execution_count": 6,
   "metadata": {},
   "outputs": [],
   "source": [
    "from tpot import TPOTClassifier\n",
    "from sklearn.model_selection import RepeatedStratifiedKFold"
   ]
  },
  {
   "cell_type": "code",
   "execution_count": 10,
   "metadata": {},
   "outputs": [
    {
     "data": {
      "application/vnd.jupyter.widget-view+json": {
       "model_id": "9766c920c5ff41eb8467966931719bf9",
       "version_major": 2,
       "version_minor": 0
      },
      "text/plain": [
       "Optimization Progress:   0%|          | 0/300 [00:00<?, ?pipeline/s]"
      ]
     },
     "metadata": {},
     "output_type": "display_data"
    },
    {
     "name": "stdout",
     "output_type": "stream",
     "text": [
      "\n",
      "Generation 1 - Current best internal CV score: 0.7873015873015873\n",
      "\n",
      "Generation 2 - Current best internal CV score: 0.7873015873015873\n",
      "\n",
      "Generation 3 - Current best internal CV score: 0.7873015873015873\n",
      "\n",
      "Generation 4 - Current best internal CV score: 0.7912698412698412\n",
      "\n",
      "Generation 5 - Current best internal CV score: 0.7912698412698412\n",
      "\n",
      "Best pipeline: LinearSVC(input_matrix, C=0.001, dual=False, loss=squared_hinge, penalty=l1, tol=0.1)\n"
     ]
    },
    {
     "data": {
      "text/plain": [
       "TPOTClassifier(cv=RepeatedStratifiedKFold(n_repeats=3, n_splits=10, random_state=1),\n",
       "               generations=5, n_jobs=-1, population_size=50, random_state=1,\n",
       "               scoring='accuracy', verbosity=2)"
      ]
     },
     "execution_count": 10,
     "metadata": {},
     "output_type": "execute_result"
    }
   ],
   "source": [
    "cv = RepeatedStratifiedKFold(n_splits=10, n_repeats=3, random_state=1)\n",
    "model = TPOTClassifier(generations=5, population_size=50, cv=cv, scoring='accuracy', verbosity=2, random_state=1, n_jobs=-1)\n",
    "model.fit(strain_train_x, strain_train_y)"
   ]
  },
  {
   "cell_type": "markdown",
   "metadata": {},
   "source": [
    "Save for later\n",
    "\n",
    "TPOTClassifier(cv=RepeatedStratifiedKFold(n_repeats=3, n_splits=10, random_state=1),\n",
    "               generations=5, n_jobs=-1, population_size=50, random_state=1,\n",
    "               scoring='accuracy', verbosity=2)"
   ]
  },
  {
   "cell_type": "code",
   "execution_count": 15,
   "metadata": {},
   "outputs": [],
   "source": [
    "model.export('tpot_data_strain.py')"
   ]
  },
  {
   "cell_type": "markdown",
   "metadata": {},
   "source": [
    "Evaluate final model"
   ]
  },
  {
   "cell_type": "code",
   "execution_count": 11,
   "metadata": {},
   "outputs": [
    {
     "data": {
      "text/plain": [
       "0.9411764705882353"
      ]
     },
     "execution_count": 11,
     "metadata": {},
     "output_type": "execute_result"
    }
   ],
   "source": [
    "model.score(strain_test_x, strain_test_y)"
   ]
  },
  {
   "cell_type": "markdown",
   "metadata": {},
   "source": [
    "94.11%"
   ]
  },
  {
   "cell_type": "code",
   "execution_count": 12,
   "metadata": {},
   "outputs": [],
   "source": [
    "from sklearn.metrics import classification_report\n",
    "from sklearn.metrics import confusion_matrix\n",
    "import seaborn as sns\n",
    "import matplotlib.pyplot as plt"
   ]
  },
  {
   "cell_type": "code",
   "execution_count": 13,
   "metadata": {},
   "outputs": [
    {
     "data": {
      "text/plain": [
       "1    15\n",
       "2    15\n",
       "3    14\n",
       "5    14\n",
       "4    13\n",
       "6    13\n",
       "Name: Strain, dtype: int64"
      ]
     },
     "execution_count": 13,
     "metadata": {},
     "output_type": "execute_result"
    }
   ],
   "source": [
    "strain[\"Strain\"].value_counts()"
   ]
  },
  {
   "cell_type": "code",
   "execution_count": 14,
   "metadata": {},
   "outputs": [
    {
     "data": {
      "image/png": "[encoded data removed]",
      "text/plain": [
       "<Figure size 1152x504 with 2 Axes>"
      ]
     },
     "metadata": {
      "needs_background": "light"
     },
     "output_type": "display_data"
    }
   ],
   "source": [
    "y_pred_strain=model.predict(strain_test_x)\n",
    "\n",
    "matrix = confusion_matrix(strain_test_y, y_pred_strain)\n",
    "\n",
    "matrix = matrix.astype('float') / matrix.sum(axis=1)[:, np.newaxis]\n",
    "\n",
    "# Build the plot\n",
    "plt.figure(figsize=(16,7))\n",
    "sns.set(font_scale=1.4)\n",
    "sns.heatmap(matrix, annot=True, annot_kws={'size':10},\n",
    "            cmap=plt.cm.Greens, linewidths=0.2)\n",
    "\n",
    "# Add labels to the plot\n",
    "class_names = ['SA_A', 'SA_B', \"PA_A\",\"PA_B\", \"EC_A\", \"EC_B\"]\n",
    "tick_marks = np.arange(len(class_names))\n",
    "tick_marks2 = tick_marks + 0.5\n",
    "plt.xticks(tick_marks, class_names, rotation=25)\n",
    "plt.yticks(tick_marks2, class_names, rotation=0)\n",
    "plt.xlabel('Predicted label')\n",
    "plt.ylabel('True label')\n",
    "plt.title('Confusion Matrix for Strain TPOT')\n",
    "plt.show()"
   ]
  },
  {
   "cell_type": "code",
   "execution_count": null,
   "metadata": {},
   "outputs": [],
   "source": []
  },
  {
   "cell_type": "code",
   "execution_count": null,
   "metadata": {},
   "outputs": [],
   "source": []
  },
  {
   "cell_type": "markdown",
   "metadata": {},
   "source": [
    "### Random Forest Classifier comparison"
   ]
  },
  {
   "cell_type": "code",
   "execution_count": 7,
   "metadata": {},
   "outputs": [],
   "source": [
    "strain = pd.read_csv(\"data/strain.csv\")\n",
    "\n",
    "strain = strain.fillna(0)"
   ]
  },
  {
   "cell_type": "code",
   "execution_count": 16,
   "metadata": {},
   "outputs": [],
   "source": [
    "strain_train = strain.sample(frac = 0.7)\n",
    "strain_test = strain.drop(strain_train.index)\n",
    "\n",
    "strain_train_x = strain_train.drop([\"Strain\"], axis=1)\n",
    "strain_train_y = strain_train[\"Strain\"]\n",
    "\n",
    "strain_test_x = strain_test.drop([\"Strain\"], axis=1)\n",
    "strain_test_y = strain_test[\"Strain\"]"
   ]
  },
  {
   "cell_type": "code",
   "execution_count": 17,
   "metadata": {},
   "outputs": [],
   "source": [
    "from sklearn.ensemble import RandomForestClassifier"
   ]
  },
  {
   "cell_type": "markdown",
   "metadata": {},
   "source": [
    "Random Forest Classifier for chemical_class"
   ]
  },
  {
   "cell_type": "code",
   "execution_count": 18,
   "metadata": {},
   "outputs": [],
   "source": [
    "model = RandomForestClassifier()"
   ]
  },
  {
   "cell_type": "markdown",
   "metadata": {},
   "source": [
    "Random Forest Classifier for strain type"
   ]
  },
  {
   "cell_type": "code",
   "execution_count": 19,
   "metadata": {},
   "outputs": [
    {
     "data": {
      "text/plain": [
       "RandomForestClassifier()"
      ]
     },
     "execution_count": 19,
     "metadata": {},
     "output_type": "execute_result"
    }
   ],
   "source": [
    "model.fit(strain_train_x, strain_train_y)"
   ]
  },
  {
   "cell_type": "code",
   "execution_count": 20,
   "metadata": {},
   "outputs": [],
   "source": [
    "y_pred_strain=model.predict(strain_test_x)"
   ]
  },
  {
   "cell_type": "code",
   "execution_count": 21,
   "metadata": {},
   "outputs": [
    {
     "name": "stdout",
     "output_type": "stream",
     "text": [
      "Accuracy: 0.7647058823529411\n"
     ]
    }
   ],
   "source": [
    "from sklearn.metrics import accuracy_score\n",
    "\n",
    "print(\"Accuracy:\",accuracy_score(strain_test_y, y_pred_strain))"
   ]
  },
  {
   "cell_type": "markdown",
   "metadata": {},
   "source": [
    "76% for predicting strain type"
   ]
  },
  {
   "cell_type": "markdown",
   "metadata": {},
   "source": [
    "### Random Forst using cross validation"
   ]
  },
  {
   "cell_type": "code",
   "execution_count": 22,
   "metadata": {},
   "outputs": [],
   "source": [
    "rfc = RandomForestClassifier()\n",
    "parameters = {\n",
    "    \"n_estimators\":[5,10,50,100,250],\n",
    "    \"max_depth\":[2,4,8,16,32,None]\n",
    "    \n",
    "}\n",
    "\n",
    "from sklearn.model_selection import GridSearchCV\n",
    "chemical = GridSearchCV(rfc,parameters,cv=5)"
   ]
  },
  {
   "cell_type": "markdown",
   "metadata": {},
   "source": [
    "Display is a function to show the best parameters"
   ]
  },
  {
   "cell_type": "markdown",
   "metadata": {},
   "source": [
    "Cross Validation for Predicting Strain"
   ]
  },
  {
   "cell_type": "code",
   "execution_count": 23,
   "metadata": {},
   "outputs": [],
   "source": [
    "strain = GridSearchCV(rfc,parameters,cv=5)"
   ]
  },
  {
   "cell_type": "code",
   "execution_count": 24,
   "metadata": {},
   "outputs": [
    {
     "data": {
      "text/plain": [
       "GridSearchCV(cv=5, estimator=RandomForestClassifier(),\n",
       "             param_grid={'max_depth': [2, 4, 8, 16, 32, None],\n",
       "                         'n_estimators': [5, 10, 50, 100, 250]})"
      ]
     },
     "execution_count": 24,
     "metadata": {},
     "output_type": "execute_result"
    }
   ],
   "source": [
    "strain.fit(strain_train_x, strain_train_y.values.ravel())"
   ]
  },
  {
   "cell_type": "code",
   "execution_count": 25,
   "metadata": {},
   "outputs": [
    {
     "data": {
      "text/plain": [
       "GridSearchCV(cv=5, estimator=RandomForestClassifier(),\n",
       "             param_grid={'max_depth': [2, 4, 8, 16, 32, None],\n",
       "                         'n_estimators': [5, 10, 50, 100, 250]})"
      ]
     },
     "metadata": {},
     "output_type": "display_data"
    }
   ],
   "source": [
    "display(strain)"
   ]
  },
  {
   "cell_type": "markdown",
   "metadata": {},
   "source": [
    "'max_depth': 8, 'n_estimators': 100"
   ]
  },
  {
   "cell_type": "markdown",
   "metadata": {},
   "source": [
    "### Perform new analysis for best max_depth and best n_estimators"
   ]
  },
  {
   "cell_type": "code",
   "execution_count": 34,
   "metadata": {},
   "outputs": [],
   "source": [
    "model = RandomForestClassifier()\n",
    "parameters = {\n",
    "    \"n_estimators\":[100],\n",
    "    \"max_depth\":[8]\n",
    "}\n",
    "cv = GridSearchCV(rfc,parameters,cv=5)"
   ]
  },
  {
   "cell_type": "code",
   "execution_count": 35,
   "metadata": {},
   "outputs": [
    {
     "data": {
      "text/plain": [
       "GridSearchCV(cv=5, estimator=RandomForestClassifier(),\n",
       "             param_grid={'max_depth': [8], 'n_estimators': [100]})"
      ]
     },
     "execution_count": 35,
     "metadata": {},
     "output_type": "execute_result"
    }
   ],
   "source": [
    "cv.fit(strain_train_x, strain_train_y)"
   ]
  },
  {
   "cell_type": "code",
   "execution_count": 36,
   "metadata": {},
   "outputs": [],
   "source": [
    "y_pred_strain=cv.predict(strain_test_x)"
   ]
  },
  {
   "cell_type": "code",
   "execution_count": 37,
   "metadata": {},
   "outputs": [
    {
     "name": "stdout",
     "output_type": "stream",
     "text": [
      "Accuracy: 0.8823529411764706\n"
     ]
    }
   ],
   "source": [
    "from sklearn.metrics import accuracy_score\n",
    "print(\"Accuracy:\",accuracy_score(strain_test_y, y_pred_strain))"
   ]
  },
  {
   "cell_type": "markdown",
   "metadata": {},
   "source": [
    "88 % Accuracy for Strain Prediction"
   ]
  },
  {
   "cell_type": "markdown",
   "metadata": {},
   "source": [
    "# See if results for time are any better for predicting strain"
   ]
  },
  {
   "cell_type": "markdown",
   "metadata": {},
   "source": [
    "Perform all steps again to see if performance can be beaten/ matched"
   ]
  },
  {
   "cell_type": "markdown",
   "metadata": {},
   "source": [
    "# Perform ML Evaluation for models"
   ]
  },
  {
   "cell_type": "markdown",
   "metadata": {},
   "source": [
    "Performance review will need to be done for AutoML models and for Random Classifier\n",
    "\n",
    "Try get another AutoML feature done for comparison"
   ]
  },
  {
   "cell_type": "code",
   "execution_count": 29,
   "metadata": {},
   "outputs": [],
   "source": [
    "from sklearn.metrics import classification_report\n",
    "from sklearn.metrics import confusion_matrix"
   ]
  },
  {
   "cell_type": "code",
   "execution_count": 30,
   "metadata": {},
   "outputs": [],
   "source": [
    "#confusion_matrix(y_test, y_pred_test)\n",
    "#print(classification_report(y_test, y_pred_test))"
   ]
  },
  {
   "cell_type": "code",
   "execution_count": null,
   "metadata": {},
   "outputs": [],
   "source": []
  },
  {
   "cell_type": "code",
   "execution_count": null,
   "metadata": {},
   "outputs": [],
   "source": []
  },
  {
   "cell_type": "code",
   "execution_count": null,
   "metadata": {},
   "outputs": [],
   "source": []
  },
  {
   "cell_type": "code",
   "execution_count": null,
   "metadata": {},
   "outputs": [],
   "source": []
  },
  {
   "cell_type": "code",
   "execution_count": null,
   "metadata": {},
   "outputs": [],
   "source": []
  },
  {
   "cell_type": "code",
   "execution_count": null,
   "metadata": {},
   "outputs": [],
   "source": []
  }
 ],
 "metadata": {
  "kernelspec": {
   "display_name": "Python 3",
   "language": "python",
   "name": "python3"
  },
  "language_info": {
   "codemirror_mode": {
    "name": "ipython",
    "version": 3
   },
   "file_extension": ".py",
   "mimetype": "text/x-python",
   "name": "python",
   "nbconvert_exporter": "python",
   "pygments_lexer": "ipython3",
   "version": "3.7.9"
  }
 },
 "nbformat": 4,
 "nbformat_minor": 4
}
