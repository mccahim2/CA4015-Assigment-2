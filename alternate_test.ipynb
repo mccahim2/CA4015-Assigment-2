{
 "cells": [
  {
   "cell_type": "code",
   "execution_count": 1,
   "metadata": {},
   "outputs": [],
   "source": [
    "import pandas as pd\n",
    "import numpy as np"
   ]
  },
  {
   "cell_type": "code",
   "execution_count": 2,
   "metadata": {},
   "outputs": [],
   "source": [
    "pca_time = pd.read_csv(\"data/pcatimes.csv\") \n",
    "ec_time = pd.read_csv(\"data/ectimes.csv\")"
   ]
  },
  {
   "cell_type": "code",
   "execution_count": 3,
   "metadata": {},
   "outputs": [
    {
     "data": {
      "text/plain": [
       "3"
      ]
     },
     "execution_count": 3,
     "metadata": {},
     "output_type": "execute_result"
    }
   ],
   "source": [
    "ec_time.isna().sum().sum()"
   ]
  },
  {
   "cell_type": "code",
   "execution_count": 4,
   "metadata": {},
   "outputs": [
    {
     "data": {
      "text/plain": [
       "7"
      ]
     },
     "execution_count": 4,
     "metadata": {},
     "output_type": "execute_result"
    }
   ],
   "source": [
    "pca_time.isna().sum().sum()"
   ]
  },
  {
   "cell_type": "code",
   "execution_count": 3,
   "metadata": {},
   "outputs": [],
   "source": [
    "ec_time = ec_time.fillna(0)\n",
    "pca_time = pca_time.fillna(0)"
   ]
  },
  {
   "cell_type": "code",
   "execution_count": 80,
   "metadata": {},
   "outputs": [],
   "source": [
    "ec_train = ec_time.sample(frac = 0.8)\n",
    "ec_test = ec_time.drop(ec_train.index)\n",
    "\n",
    "ec_train_x = ec_train.drop([\"Strain\"], axis=1)\n",
    "ec_train_y = ec_train[\"Strain\"]\n",
    "\n",
    "ec_test_x = ec_test.drop([\"Strain\"], axis=1)\n",
    "ec_test_y = ec_test[\"Strain\"]"
   ]
  },
  {
   "cell_type": "code",
   "execution_count": 140,
   "metadata": {},
   "outputs": [],
   "source": [
    "pca_train = pca_time.sample(frac = 0.8)\n",
    "pca_test = pca_time.drop(pca_train.index)\n",
    "\n",
    "pca_train_x = pca_train.drop([\"Strain\"], axis=1)\n",
    "pca_train_y = pca_train[\"Strain\"]\n",
    "\n",
    "pca_test_x = pca_test.drop([\"Strain\"], axis=1)\n",
    "pca_test_y = pca_test[\"Strain\"]"
   ]
  },
  {
   "cell_type": "markdown",
   "metadata": {},
   "source": [
    "### AutoML baseline for EC"
   ]
  },
  {
   "cell_type": "code",
   "execution_count": 9,
   "metadata": {
    "collapsed": true,
    "jupyter": {
     "outputs_hidden": true
    }
   },
   "outputs": [
    {
     "name": "stderr",
     "output_type": "stream",
     "text": [
      "2021-10-27 15:33:52,025 supervised.preprocessing.eda ERROR There was an issue when running EDA. could not convert string to float: 'EC_B'\n"
     ]
    },
    {
     "name": "stdout",
     "output_type": "stream",
     "text": [
      "AutoML directory: AutoML_8\n",
      "The task is binary_classification with evaluation metric logloss\n",
      "AutoML will use algorithms: ['Baseline', 'Linear', 'Decision Tree', 'Random Forest', 'Xgboost', 'Neural Network']\n",
      "AutoML will ensemble available models\n",
      "AutoML steps: ['simple_algorithms', 'default_algorithms', 'ensemble']\n",
      "* Step simple_algorithms will try to check up to 3 models\n",
      "1_Baseline logloss 0.690058 trained in 0.27 seconds\n",
      "2_DecisionTree logloss 0.086644 trained in 7.99 seconds\n",
      "3_Linear logloss 0.551518 trained in 2.08 seconds\n",
      "* Step default_algorithms will try to check up to 3 models\n",
      "4_Default_Xgboost logloss 0.102722 trained in 111.44 seconds\n",
      "5_Default_NeuralNetwork logloss 0.405663 trained in 0.61 seconds\n",
      "6_Default_RandomForest logloss 0.362119 trained in 4.4 seconds\n",
      "* Step ensemble will try to check up to 1 model\n",
      "Ensemble logloss 0.086644 trained in 0.46 seconds\n",
      "AutoML fit time: 136.32 seconds\n",
      "AutoML best model: 2_DecisionTree\n"
     ]
    },
    {
     "data": {
      "text/plain": [
       "AutoML(total_time_limit=300)"
      ]
     },
     "execution_count": 9,
     "metadata": {},
     "output_type": "execute_result"
    }
   ],
   "source": [
    "''''\n",
    "from supervised.automl import AutoML\n",
    "automl = AutoML(total_time_limit=5*60)\n",
    "automl.fit(ec_train_x, ec_train_y)"
   ]
  },
  {
   "cell_type": "code",
   "execution_count": 10,
   "metadata": {},
   "outputs": [],
   "source": [
    "#y_predicted = automl.predict(ec_test_x)"
   ]
  },
  {
   "cell_type": "code",
   "execution_count": 11,
   "metadata": {
    "collapsed": true,
    "jupyter": {
     "outputs_hidden": true
    }
   },
   "outputs": [
    {
     "name": "stdout",
     "output_type": "stream",
     "text": [
      "   Predicted Target\n",
      "0       EC_A   EC_A\n",
      "1       EC_B   EC_B\n",
      "2       EC_B   EC_B\n",
      "3       EC_B   EC_B\n",
      "4       EC_B   EC_B\n",
      "5       EC_B   EC_B\n",
      "6       EC_B   EC_B\n",
      "7       EC_B   EC_A\n",
      "8       EC_A   EC_A\n",
      "9       EC_A   EC_A\n",
      "10      EC_A   EC_A\n",
      "11      EC_B   EC_B\n",
      "12      EC_B   EC_B\n",
      "13      EC_B   EC_B\n",
      "14      EC_B   EC_B\n",
      "15      EC_B   EC_A\n",
      "16      EC_A   EC_A\n",
      "17      EC_B   EC_B\n",
      "18      EC_B   EC_B\n",
      "19      EC_A   EC_A\n",
      "20      EC_A   EC_A\n",
      "21      EC_B   EC_B\n",
      "22      EC_B   EC_B\n",
      "23      EC_B   EC_B\n"
     ]
    }
   ],
   "source": [
    "'''\n",
    "predicted_strain = pd.DataFrame(y_predicted, columns=[\"PredictedStrain\"])\n",
    "print(pd.DataFrame({\"Predicted\": predicted_strain[\"PredictedStrain\"], \"Target\": np.array(ec_test_y)}))"
   ]
  },
  {
   "cell_type": "code",
   "execution_count": 25,
   "metadata": {},
   "outputs": [
    {
     "name": "stdout",
     "output_type": "stream",
     "text": [
      "91.66666666666666\n"
     ]
    }
   ],
   "source": [
    "# Accuracy = no correct answers / number of targets\n",
    "accuracy = 22/24\n",
    "print(accuracy*100)"
   ]
  },
  {
   "cell_type": "markdown",
   "metadata": {},
   "source": [
    "Baseline for EC is 83.3%"
   ]
  },
  {
   "cell_type": "markdown",
   "metadata": {},
   "source": [
    "Baseline for PC"
   ]
  },
  {
   "cell_type": "code",
   "execution_count": 13,
   "metadata": {},
   "outputs": [
    {
     "name": "stderr",
     "output_type": "stream",
     "text": [
      "2021-10-27 15:36:08,418 supervised.preprocessing.eda ERROR There was an issue when running EDA. could not convert string to float: 'PA.A'\n"
     ]
    },
    {
     "name": "stdout",
     "output_type": "stream",
     "text": [
      "AutoML directory: AutoML_9\n",
      "The task is binary_classification with evaluation metric logloss\n",
      "AutoML will use algorithms: ['Baseline', 'Linear', 'Decision Tree', 'Random Forest', 'Xgboost', 'Neural Network']\n",
      "AutoML will ensemble available models\n",
      "AutoML steps: ['simple_algorithms', 'default_algorithms', 'ensemble']\n",
      "* Step simple_algorithms will try to check up to 3 models\n",
      "1_Baseline logloss 0.693533 trained in 0.65 seconds\n",
      "2_DecisionTree logloss 0.318401 trained in 3.32 seconds\n",
      "3_Linear logloss 0.862773 trained in 2.28 seconds\n",
      "* Step default_algorithms will try to check up to 3 models\n",
      "4_Default_Xgboost logloss 0.228946 trained in 77.63 seconds\n",
      "5_Default_NeuralNetwork logloss 0.812959 trained in 0.71 seconds\n",
      "6_Default_RandomForest logloss 0.477472 trained in 4.26 seconds\n",
      "* Step ensemble will try to check up to 1 model\n",
      "Ensemble logloss 0.222414 trained in 0.32 seconds\n",
      "AutoML fit time: 97.94 seconds\n",
      "AutoML best model: Ensemble\n"
     ]
    },
    {
     "data": {
      "text/plain": [
       "AutoML(total_time_limit=300)"
      ]
     },
     "execution_count": 13,
     "metadata": {},
     "output_type": "execute_result"
    }
   ],
   "source": [
    "'''\n",
    "from supervised.automl import AutoML\n",
    "automl = AutoML(total_time_limit=5*60)\n",
    "automl.fit(pca_train_x, pca_train_y)"
   ]
  },
  {
   "cell_type": "code",
   "execution_count": 14,
   "metadata": {},
   "outputs": [],
   "source": [
    "#y_predicted = automl.predict(pca_test_x)"
   ]
  },
  {
   "cell_type": "code",
   "execution_count": 15,
   "metadata": {},
   "outputs": [
    {
     "name": "stdout",
     "output_type": "stream",
     "text": [
      "   Predicted Target\n",
      "0       PA.B   PA.B\n",
      "1       PA.B   PA.B\n",
      "2       PA.A   PA.A\n",
      "3       PA.A   PA.A\n",
      "4       PA.A   PA.A\n",
      "5       PA.B   PA.B\n",
      "6       PA.B   PA.B\n",
      "7       PA.A   PA.A\n",
      "8       PA.A   PA.A\n",
      "9       PA.B   PA.B\n",
      "10      PA.B   PA.B\n",
      "11      PA.A   PA.B\n",
      "12      PA.A   PA.A\n",
      "13      PA.A   PA.A\n",
      "14      PA.A   PA.A\n",
      "15      PA.A   PA.A\n",
      "16      PA.B   PA.B\n",
      "17      PA.B   PA.A\n",
      "18      PA.A   PA.A\n",
      "19      PA.B   PA.A\n",
      "20      PA.B   PA.B\n",
      "21      PA.B   PA.B\n",
      "22      PA.A   PA.A\n",
      "23      PA.B   PA.B\n"
     ]
    }
   ],
   "source": [
    "'''\n",
    "predicted_strain = pd.DataFrame(y_predicted, columns=[\"PredictedStrain\"])\n",
    "print(pd.DataFrame({\"Predicted\": predicted_strain[\"PredictedStrain\"], \"Target\": np.array(pca_test_y)}))"
   ]
  },
  {
   "cell_type": "code",
   "execution_count": 26,
   "metadata": {},
   "outputs": [
    {
     "name": "stdout",
     "output_type": "stream",
     "text": [
      "87.5\n"
     ]
    }
   ],
   "source": [
    "accuracy = 21/24\n",
    "print(accuracy*100)"
   ]
  },
  {
   "cell_type": "markdown",
   "metadata": {},
   "source": [
    "Same Results for PA Baseline"
   ]
  },
  {
   "cell_type": "markdown",
   "metadata": {},
   "source": [
    "## New EC scores"
   ]
  },
  {
   "cell_type": "code",
   "execution_count": 17,
   "metadata": {},
   "outputs": [
    {
     "name": "stderr",
     "output_type": "stream",
     "text": [
      "2021-10-27 15:37:46,450 supervised.preprocessing.eda ERROR There was an issue when running EDA. could not convert string to float: 'EC_B'\n"
     ]
    },
    {
     "name": "stdout",
     "output_type": "stream",
     "text": [
      "AutoML directory: AutoML_10\n",
      "The task is binary_classification with evaluation metric logloss\n",
      "AutoML will use algorithms: ['Decision Tree', 'Linear', 'Random Forest']\n",
      "AutoML will ensemble available models\n",
      "AutoML steps: ['simple_algorithms', 'default_algorithms', 'ensemble']\n",
      "* Step simple_algorithms will try to check up to 2 models\n",
      "1_DecisionTree logloss 0.086644 trained in 3.32 seconds\n",
      "2_Linear logloss 0.551518 trained in 2.37 seconds\n",
      "* Step default_algorithms will try to check up to 1 model\n",
      "3_Default_RandomForest logloss 0.391908 trained in 4.35 seconds\n",
      "* Step ensemble will try to check up to 1 model\n",
      "Ensemble logloss 0.086644 trained in 0.21 seconds\n",
      "AutoML fit time: 15.37 seconds\n",
      "AutoML best model: 1_DecisionTree\n"
     ]
    },
    {
     "data": {
      "text/plain": [
       "AutoML(algorithms=['Decision Tree', 'Linear', 'Random Forest'],\n",
       "       total_time_limit=300)"
      ]
     },
     "execution_count": 17,
     "metadata": {},
     "output_type": "execute_result"
    }
   ],
   "source": [
    "'''\n",
    "from supervised.automl import AutoML\n",
    "automl = AutoML(algorithms=[\"Decision Tree\", \"Linear\", \"Random Forest\"],\n",
    "                total_time_limit=5*60)\n",
    "automl.fit(ec_train_x, ec_train_y)"
   ]
  },
  {
   "cell_type": "code",
   "execution_count": 18,
   "metadata": {},
   "outputs": [],
   "source": [
    "#y_predicted = automl.predict(ec_test_x)"
   ]
  },
  {
   "cell_type": "code",
   "execution_count": 19,
   "metadata": {
    "collapsed": true,
    "jupyter": {
     "outputs_hidden": true
    }
   },
   "outputs": [
    {
     "name": "stdout",
     "output_type": "stream",
     "text": [
      "   Predicted Target\n",
      "0       EC_A   EC_A\n",
      "1       EC_B   EC_B\n",
      "2       EC_B   EC_B\n",
      "3       EC_B   EC_B\n",
      "4       EC_B   EC_B\n",
      "5       EC_B   EC_B\n",
      "6       EC_B   EC_B\n",
      "7       EC_B   EC_A\n",
      "8       EC_A   EC_A\n",
      "9       EC_A   EC_A\n",
      "10      EC_A   EC_A\n",
      "11      EC_B   EC_B\n",
      "12      EC_B   EC_B\n",
      "13      EC_B   EC_B\n",
      "14      EC_B   EC_B\n",
      "15      EC_B   EC_A\n",
      "16      EC_A   EC_A\n",
      "17      EC_B   EC_B\n",
      "18      EC_B   EC_B\n",
      "19      EC_A   EC_A\n",
      "20      EC_A   EC_A\n",
      "21      EC_B   EC_B\n",
      "22      EC_B   EC_B\n",
      "23      EC_B   EC_B\n"
     ]
    }
   ],
   "source": [
    "'''\n",
    "predicted_strain = pd.DataFrame(y_predicted, columns=[\"PredictedStrain\"])\n",
    "print(pd.DataFrame({\"Predicted\": predicted_strain[\"PredictedStrain\"], \"Target\": np.array(ec_test_y)}))"
   ]
  },
  {
   "cell_type": "code",
   "execution_count": 27,
   "metadata": {},
   "outputs": [
    {
     "name": "stdout",
     "output_type": "stream",
     "text": [
      "91.66666666666666\n"
     ]
    }
   ],
   "source": [
    "accuracy = 22/24\n",
    "print(accuracy*100)"
   ]
  },
  {
   "cell_type": "markdown",
   "metadata": {},
   "source": [
    "91.6% accuracy"
   ]
  },
  {
   "cell_type": "markdown",
   "metadata": {},
   "source": [
    "## New PC scores"
   ]
  },
  {
   "cell_type": "code",
   "execution_count": 29,
   "metadata": {
    "collapsed": true,
    "jupyter": {
     "outputs_hidden": true
    }
   },
   "outputs": [
    {
     "name": "stderr",
     "output_type": "stream",
     "text": [
      "2021-10-27 15:43:44,179 supervised.preprocessing.eda ERROR There was an issue when running EDA. could not convert string to float: 'PA.B'\n"
     ]
    },
    {
     "name": "stdout",
     "output_type": "stream",
     "text": [
      "AutoML directory: AutoML_12\n",
      "The task is binary_classification with evaluation metric logloss\n",
      "AutoML will use algorithms: ['Decision Tree', 'Linear', 'Random Forest']\n",
      "AutoML will ensemble available models\n",
      "AutoML steps: ['simple_algorithms', 'default_algorithms', 'ensemble']\n",
      "* Step simple_algorithms will try to check up to 2 models\n",
      "1_DecisionTree logloss 0.407512 trained in 9.64 seconds\n",
      "2_Linear logloss 0.559297 trained in 2.64 seconds\n",
      "* Step default_algorithms will try to check up to 1 model\n",
      "3_Default_RandomForest logloss 0.524965 trained in 4.67 seconds\n",
      "* Step ensemble will try to check up to 1 model\n",
      "Ensemble logloss 0.407512 trained in 0.18 seconds\n",
      "AutoML fit time: 22.68 seconds\n",
      "AutoML best model: 1_DecisionTree\n"
     ]
    },
    {
     "data": {
      "text/plain": [
       "AutoML(algorithms=['Decision Tree', 'Linear', 'Random Forest'],\n",
       "       total_time_limit=300)"
      ]
     },
     "execution_count": 29,
     "metadata": {},
     "output_type": "execute_result"
    }
   ],
   "source": [
    "'''\n",
    "from supervised.automl import AutoML\n",
    "automl = AutoML(algorithms=[\"Decision Tree\", \"Linear\", \"Random Forest\"],\n",
    "                total_time_limit=5*60)\n",
    "automl.fit(pca_train_x, pca_train_y)"
   ]
  },
  {
   "cell_type": "code",
   "execution_count": 30,
   "metadata": {},
   "outputs": [],
   "source": [
    "#y_predicted = automl.predict(pca_test_x)"
   ]
  },
  {
   "cell_type": "code",
   "execution_count": 31,
   "metadata": {
    "collapsed": true,
    "jupyter": {
     "outputs_hidden": true
    }
   },
   "outputs": [
    {
     "name": "stdout",
     "output_type": "stream",
     "text": [
      "   Predicted Target\n",
      "0       PA.B   PA.B\n",
      "1       PA.A   PA.A\n",
      "2       PA.B   PA.B\n",
      "3       PA.B   PA.B\n",
      "4       PA.B   PA.B\n",
      "5       PA.B   PA.A\n",
      "6       PA.A   PA.A\n",
      "7       PA.A   PA.A\n",
      "8       PA.B   PA.A\n",
      "9       PA.B   PA.B\n",
      "10      PA.B   PA.B\n",
      "11      PA.B   PA.B\n",
      "12      PA.B   PA.B\n",
      "13      PA.B   PA.B\n",
      "14      PA.B   PA.B\n",
      "15      PA.B   PA.A\n",
      "16      PA.B   PA.A\n",
      "17      PA.A   PA.A\n",
      "18      PA.A   PA.A\n",
      "19      PA.B   PA.B\n",
      "20      PA.B   PA.B\n",
      "21      PA.A   PA.A\n",
      "22      PA.B   PA.B\n",
      "23      PA.B   PA.B\n"
     ]
    }
   ],
   "source": [
    "'''\n",
    "predicted_strain = pd.DataFrame(y_predicted, columns=[\"PredictedStrain\"])\n",
    "print(pd.DataFrame({\"Predicted\": predicted_strain[\"PredictedStrain\"], \"Target\": np.array(pca_test_y)}))"
   ]
  },
  {
   "cell_type": "code",
   "execution_count": 32,
   "metadata": {},
   "outputs": [
    {
     "name": "stdout",
     "output_type": "stream",
     "text": [
      "83.33333333333334\n"
     ]
    }
   ],
   "source": [
    "accuracy = 20/24\n",
    "print(accuracy*100)"
   ]
  },
  {
   "cell_type": "markdown",
   "metadata": {},
   "source": [
    "### TPOT Classifier: AutoML"
   ]
  },
  {
   "cell_type": "code",
   "execution_count": 4,
   "metadata": {},
   "outputs": [],
   "source": [
    "from tpot import TPOTClassifier\n",
    "from sklearn.model_selection import RepeatedStratifiedKFold"
   ]
  },
  {
   "cell_type": "code",
   "execution_count": 9,
   "metadata": {},
   "outputs": [],
   "source": [
    "ec_time[\"Strain\"] = ec_time[\"Strain\"].replace([\"EC_A\", \"EC_B\"], [1,2])\n",
    "pca_time[\"Strain\"] = pca_time[\"Strain\"].replace([\"PA_A\", \"PA_B\"], [1,2])"
   ]
  },
  {
   "cell_type": "markdown",
   "metadata": {},
   "source": [
    "### TPOT for EC"
   ]
  },
  {
   "cell_type": "code",
   "execution_count": 10,
   "metadata": {},
   "outputs": [],
   "source": [
    "ec_train = ec_time.sample(frac = 0.8)\n",
    "ec_test = ec_time.drop(ec_train.index)\n",
    "\n",
    "ec_train_x = ec_train.drop([\"Strain\"], axis=1)\n",
    "ec_train_y = ec_train[\"Strain\"]\n",
    "\n",
    "ec_test_x = ec_test.drop([\"Strain\"], axis=1)\n",
    "ec_test_y = ec_test[\"Strain\"]"
   ]
  },
  {
   "cell_type": "code",
   "execution_count": 12,
   "metadata": {},
   "outputs": [
    {
     "data": {
      "application/vnd.jupyter.widget-view+json": {
       "model_id": "d2ee37d37953424b87c1f4b77eff5741",
       "version_major": 2,
       "version_minor": 0
      },
      "text/plain": [
       "Optimization Progress:   0%|          | 0/300 [00:00<?, ?pipeline/s]"
      ]
     },
     "metadata": {},
     "output_type": "display_data"
    },
    {
     "name": "stdout",
     "output_type": "stream",
     "text": [
      "\n",
      "Generation 1 - Current best internal CV score: 0.9422222222222223\n",
      "\n",
      "Generation 2 - Current best internal CV score: 0.9422222222222223\n",
      "\n",
      "Generation 3 - Current best internal CV score: 0.9455555555555557\n",
      "\n",
      "Generation 4 - Current best internal CV score: 0.9455555555555557\n",
      "\n",
      "Generation 5 - Current best internal CV score: 0.948888888888889\n",
      "\n",
      "Best pipeline: DecisionTreeClassifier(input_matrix, criterion=entropy, max_depth=3, min_samples_leaf=5, min_samples_split=9)\n"
     ]
    },
    {
     "data": {
      "text/plain": [
       "TPOTClassifier(cv=RepeatedStratifiedKFold(n_repeats=3, n_splits=10, random_state=1),\n",
       "               generations=5, n_jobs=-1, population_size=50, random_state=1,\n",
       "               scoring='accuracy', verbosity=2)"
      ]
     },
     "execution_count": 12,
     "metadata": {},
     "output_type": "execute_result"
    }
   ],
   "source": [
    "cv = RepeatedStratifiedKFold(n_splits=10, n_repeats=3, random_state=1)\n",
    "model = TPOTClassifier(generations=5, population_size=50, cv=cv, scoring='accuracy', verbosity=2, random_state=1, n_jobs=-1)\n",
    "model.fit(ec_train_x, ec_train_y)"
   ]
  },
  {
   "cell_type": "markdown",
   "metadata": {},
   "source": [
    "model.score(ec_train_x, ec_train_y"
   ]
  },
  {
   "cell_type": "markdown",
   "metadata": {},
   "source": [
    "Best Model"
   ]
  },
  {
   "cell_type": "code",
   "execution_count": null,
   "metadata": {},
   "outputs": [],
   "source": [
    "cv = RepeatedStratifiedKFold(n_splits=10, n_repeats=3, random_state=1)\n",
    "model = TPOTClassifier(generations=5, population_size=50, cv=cv, scoring='accuracy', verbosity=2, random_state=1, n_jobs=-1)\n",
    "model.fit(strain_train_x, strain_train_y)"
   ]
  },
  {
   "cell_type": "code",
   "execution_count": 13,
   "metadata": {},
   "outputs": [
    {
     "data": {
      "text/plain": [
       "0.9583333333333334"
      ]
     },
     "execution_count": 13,
     "metadata": {},
     "output_type": "execute_result"
    }
   ],
   "source": [
    "model.score(ec_test_x, ec_test_y)"
   ]
  },
  {
   "cell_type": "markdown",
   "metadata": {},
   "source": [
    "95.8% Accuracy"
   ]
  },
  {
   "cell_type": "code",
   "execution_count": 17,
   "metadata": {},
   "outputs": [],
   "source": [
    "from sklearn.metrics import classification_report\n",
    "from sklearn.metrics import confusion_matrix\n",
    "import seaborn as sns\n",
    "import matplotlib.pyplot as plt"
   ]
  },
  {
   "cell_type": "code",
   "execution_count": 18,
   "metadata": {},
   "outputs": [
    {
     "data": {
      "image/png": "[encoded data removed]",
      "text/plain": [
       "<Figure size 1152x504 with 2 Axes>"
      ]
     },
     "metadata": {
      "needs_background": "light"
     },
     "output_type": "display_data"
    }
   ],
   "source": [
    "y_pred_strain=model.predict(ec_test_x)\n",
    "\n",
    "matrix = confusion_matrix(ec_test_y, y_pred_strain)\n",
    "\n",
    "matrix = matrix.astype('float') / matrix.sum(axis=1)[:, np.newaxis]\n",
    "\n",
    "# Build the plot\n",
    "plt.figure(figsize=(16,7))\n",
    "sns.set(font_scale=1.4)\n",
    "sns.heatmap(matrix, annot=True, annot_kws={'size':10},\n",
    "            cmap=plt.cm.Greens, linewidths=0.2)\n",
    "\n",
    "# Add labels to the plot\n",
    "class_names = ['EC_A', 'EC_B']\n",
    "tick_marks = np.arange(len(class_names))\n",
    "tick_marks2 = tick_marks + 0.5\n",
    "plt.xticks(tick_marks, class_names, rotation=25)\n",
    "plt.yticks(tick_marks2, class_names, rotation=0)\n",
    "plt.xlabel('Predicted label')\n",
    "plt.ylabel('True label')\n",
    "plt.title('Confusion Matrix for EC Strain AutoML')\n",
    "plt.show()"
   ]
  },
  {
   "cell_type": "code",
   "execution_count": null,
   "metadata": {},
   "outputs": [],
   "source": []
  },
  {
   "cell_type": "code",
   "execution_count": null,
   "metadata": {},
   "outputs": [],
   "source": []
  },
  {
   "cell_type": "code",
   "execution_count": null,
   "metadata": {},
   "outputs": [],
   "source": []
  },
  {
   "cell_type": "code",
   "execution_count": null,
   "metadata": {},
   "outputs": [],
   "source": []
  },
  {
   "cell_type": "code",
   "execution_count": null,
   "metadata": {},
   "outputs": [],
   "source": []
  },
  {
   "cell_type": "code",
   "execution_count": null,
   "metadata": {},
   "outputs": [],
   "source": []
  },
  {
   "cell_type": "markdown",
   "metadata": {},
   "source": [
    "### TPOT for PC"
   ]
  },
  {
   "cell_type": "code",
   "execution_count": 24,
   "metadata": {},
   "outputs": [],
   "source": [
    "pca_time[\"Strain\"] = pca_time[\"Strain\"].replace([\"PA.A\", \"PA.B\"], [1,2])\n",
    "\n",
    "pca_train = pca_time.sample(frac = 0.8)\n",
    "pca_test = pca_time.drop(pca_train.index)\n",
    "\n",
    "pca_train_x = pca_train.drop([\"Strain\"], axis=1)\n",
    "pca_train_y = pca_train[\"Strain\"]\n",
    "\n",
    "pca_test_x = pca_test.drop([\"Strain\"], axis=1)\n",
    "pca_test_y = pca_test[\"Strain\"]"
   ]
  },
  {
   "cell_type": "code",
   "execution_count": 25,
   "metadata": {},
   "outputs": [
    {
     "data": {
      "text/plain": [
       "2    60\n",
       "1    60\n",
       "Name: Strain, dtype: int64"
      ]
     },
     "execution_count": 25,
     "metadata": {},
     "output_type": "execute_result"
    }
   ],
   "source": [
    "pca_time[\"Strain\"].value_counts()"
   ]
  },
  {
   "cell_type": "code",
   "execution_count": 27,
   "metadata": {},
   "outputs": [
    {
     "data": {
      "application/vnd.jupyter.widget-view+json": {
       "model_id": "e387e96a60134f40a113a5208432a80b",
       "version_major": 2,
       "version_minor": 0
      },
      "text/plain": [
       "Optimization Progress:   0%|          | 0/300 [00:00<?, ?pipeline/s]"
      ]
     },
     "metadata": {},
     "output_type": "display_data"
    },
    {
     "name": "stdout",
     "output_type": "stream",
     "text": [
      "\n",
      "Generation 1 - Current best internal CV score: 0.9274074074074076\n",
      "\n",
      "Generation 2 - Current best internal CV score: 0.9274074074074076\n",
      "\n",
      "Generation 3 - Current best internal CV score: 0.9377777777777777\n",
      "\n",
      "Generation 4 - Current best internal CV score: 0.9407407407407408\n",
      "\n",
      "Generation 5 - Current best internal CV score: 0.9407407407407408\n",
      "\n",
      "Best pipeline: ExtraTreesClassifier(XGBClassifier(input_matrix, learning_rate=0.1, max_depth=3, min_child_weight=16, n_estimators=100, n_jobs=1, subsample=0.35000000000000003, verbosity=0), bootstrap=False, criterion=entropy, max_features=0.9000000000000001, min_samples_leaf=1, min_samples_split=15, n_estimators=100)\n"
     ]
    },
    {
     "data": {
      "text/plain": [
       "TPOTClassifier(cv=RepeatedStratifiedKFold(n_repeats=3, n_splits=10, random_state=1),\n",
       "               generations=5, n_jobs=-1, population_size=50, random_state=1,\n",
       "               scoring='accuracy', verbosity=2)"
      ]
     },
     "execution_count": 27,
     "metadata": {},
     "output_type": "execute_result"
    }
   ],
   "source": [
    "cv = RepeatedStratifiedKFold(n_splits=10, n_repeats=3, random_state=1)\n",
    "model = TPOTClassifier(generations=5, population_size=50, cv=cv, scoring='accuracy', verbosity=2, random_state=1, n_jobs=-1)\n",
    "model.fit(pca_train_x, pca_train_y)"
   ]
  },
  {
   "cell_type": "code",
   "execution_count": 28,
   "metadata": {},
   "outputs": [
    {
     "data": {
      "text/plain": [
       "0.9583333333333334"
      ]
     },
     "execution_count": 28,
     "metadata": {},
     "output_type": "execute_result"
    }
   ],
   "source": [
    "model.score(pca_test_x, pca_test_y)"
   ]
  },
  {
   "cell_type": "markdown",
   "metadata": {},
   "source": [
    "95.8% Accuracy"
   ]
  },
  {
   "cell_type": "code",
   "execution_count": 29,
   "metadata": {},
   "outputs": [
    {
     "data": {
      "image/png": "[encoded data removed]",
      "text/plain": [
       "<Figure size 1152x504 with 2 Axes>"
      ]
     },
     "metadata": {},
     "output_type": "display_data"
    }
   ],
   "source": [
    "y_pred_strain=model.predict(pca_test_x)\n",
    "\n",
    "matrix = confusion_matrix(pca_test_y, y_pred_strain)\n",
    "\n",
    "matrix = matrix.astype('float') / matrix.sum(axis=1)[:, np.newaxis]\n",
    "\n",
    "# Build the plot\n",
    "plt.figure(figsize=(16,7))\n",
    "sns.set(font_scale=1.4)\n",
    "sns.heatmap(matrix, annot=True, annot_kws={'size':10},\n",
    "            cmap=plt.cm.Greens, linewidths=0.2)\n",
    "\n",
    "# Add labels to the plot\n",
    "class_names = ['PC_A', 'PC_B']\n",
    "tick_marks = np.arange(len(class_names))\n",
    "tick_marks2 = tick_marks + 0.5\n",
    "plt.xticks(tick_marks, class_names, rotation=25)\n",
    "plt.yticks(tick_marks2, class_names, rotation=0)\n",
    "plt.xlabel('Predicted label')\n",
    "plt.ylabel('True label')\n",
    "plt.title('Confusion Matrix for PC Strain AutoML')\n",
    "plt.show()"
   ]
  },
  {
   "cell_type": "code",
   "execution_count": null,
   "metadata": {},
   "outputs": [],
   "source": []
  },
  {
   "cell_type": "code",
   "execution_count": null,
   "metadata": {},
   "outputs": [],
   "source": []
  },
  {
   "cell_type": "code",
   "execution_count": null,
   "metadata": {},
   "outputs": [],
   "source": []
  },
  {
   "cell_type": "markdown",
   "metadata": {},
   "source": [
    "## Random Forest Classifier"
   ]
  },
  {
   "cell_type": "code",
   "execution_count": 33,
   "metadata": {},
   "outputs": [],
   "source": [
    "from sklearn.ensemble import RandomForestClassifier"
   ]
  },
  {
   "cell_type": "markdown",
   "metadata": {},
   "source": [
    "First for EC"
   ]
  },
  {
   "cell_type": "code",
   "execution_count": 34,
   "metadata": {},
   "outputs": [],
   "source": [
    "model = RandomForestClassifier()"
   ]
  },
  {
   "cell_type": "code",
   "execution_count": 35,
   "metadata": {},
   "outputs": [
    {
     "data": {
      "text/plain": [
       "RandomForestClassifier()"
      ]
     },
     "execution_count": 35,
     "metadata": {},
     "output_type": "execute_result"
    }
   ],
   "source": [
    "model.fit(ec_train_x, ec_train_y)"
   ]
  },
  {
   "cell_type": "code",
   "execution_count": 36,
   "metadata": {},
   "outputs": [],
   "source": [
    "y_pred_strain=model.predict(ec_test_x)"
   ]
  },
  {
   "cell_type": "code",
   "execution_count": 40,
   "metadata": {},
   "outputs": [
    {
     "name": "stdout",
     "output_type": "stream",
     "text": [
      "Accuracy: 0.9166666666666666\n"
     ]
    }
   ],
   "source": [
    "from sklearn.metrics import accuracy_score\n",
    "print(\"Accuracy:\",accuracy_score(_test_y, y_pred_strain))"
   ]
  },
  {
   "cell_type": "markdown",
   "metadata": {},
   "source": [
    "91.6% Accuracy"
   ]
  },
  {
   "cell_type": "markdown",
   "metadata": {},
   "source": [
    "PC Randm Forest Classifier"
   ]
  },
  {
   "cell_type": "code",
   "execution_count": 42,
   "metadata": {},
   "outputs": [
    {
     "name": "stdout",
     "output_type": "stream",
     "text": [
      "Accuracy: 0.875\n"
     ]
    }
   ],
   "source": [
    "model = RandomForestClassifier()\n",
    "model.fit(pca_train_x, pca_train_y)\n",
    "y_pred_strain=model.predict(pca_test_x)\n",
    "print(\"Accuracy:\",accuracy_score(pca_test_y, y_pred_strain))"
   ]
  },
  {
   "cell_type": "markdown",
   "metadata": {},
   "source": [
    "87.5% Accuracy for predicting strain for Baseline "
   ]
  },
  {
   "cell_type": "markdown",
   "metadata": {},
   "source": [
    "### Random Forst using cross validation"
   ]
  },
  {
   "cell_type": "code",
   "execution_count": 52,
   "metadata": {},
   "outputs": [],
   "source": [
    "rfc = RandomForestClassifier()\n",
    "parameters = {\n",
    "    \"n_estimators\":[5,10,50,100,250],\n",
    "    \"max_depth\":[2,4,8,16,32,None]\n",
    "}"
   ]
  },
  {
   "cell_type": "markdown",
   "metadata": {},
   "source": [
    "EC Values"
   ]
  },
  {
   "cell_type": "code",
   "execution_count": 54,
   "metadata": {},
   "outputs": [
    {
     "data": {
      "text/plain": [
       "GridSearchCV(cv=5, estimator=RandomForestClassifier(),\n",
       "             param_grid={'max_depth': [2, 4, 8, 16, 32, None],\n",
       "                         'n_estimators': [5, 10, 50, 100, 250]})"
      ]
     },
     "execution_count": 54,
     "metadata": {},
     "output_type": "execute_result"
    }
   ],
   "source": [
    "from sklearn.model_selection import GridSearchCV\n",
    "cv = GridSearchCV(rfc,parameters,cv=5)\n",
    "cv.fit(ec_train_x,ec_train_y.values.ravel())"
   ]
  },
  {
   "cell_type": "code",
   "execution_count": 55,
   "metadata": {},
   "outputs": [],
   "source": [
    "def display(results):\n",
    "    print(f'Best parameters are: {results.best_params_}')\n",
    "    print(\"\\n\")\n",
    "    mean_score = results.cv_results_['mean_test_score']\n",
    "    std_score = results.cv_results_['std_test_score']\n",
    "    params = results.cv_results_['params']\n",
    "    for mean,std,params in zip(mean_score,std_score,params):\n",
    "        print(f'{round(mean,3)} + or -{round(std,3)} for the {params}')"
   ]
  },
  {
   "cell_type": "code",
   "execution_count": 56,
   "metadata": {
    "collapsed": true,
    "jupyter": {
     "outputs_hidden": true
    }
   },
   "outputs": [
    {
     "name": "stdout",
     "output_type": "stream",
     "text": [
      "Best parameters are: {'max_depth': 4, 'n_estimators': 100}\n",
      "\n",
      "\n",
      "0.855 + or -0.049 for the {'max_depth': 2, 'n_estimators': 5}\n",
      "0.834 + or -0.066 for the {'max_depth': 2, 'n_estimators': 10}\n",
      "0.877 + or -0.097 for the {'max_depth': 2, 'n_estimators': 50}\n",
      "0.887 + or -0.08 for the {'max_depth': 2, 'n_estimators': 100}\n",
      "0.887 + or -0.098 for the {'max_depth': 2, 'n_estimators': 250}\n",
      "0.886 + or -0.075 for the {'max_depth': 4, 'n_estimators': 5}\n",
      "0.928 + or -0.039 for the {'max_depth': 4, 'n_estimators': 10}\n",
      "0.928 + or -0.067 for the {'max_depth': 4, 'n_estimators': 50}\n",
      "0.938 + or -0.049 for the {'max_depth': 4, 'n_estimators': 100}\n",
      "0.938 + or -0.049 for the {'max_depth': 4, 'n_estimators': 250}\n",
      "0.938 + or -0.049 for the {'max_depth': 8, 'n_estimators': 5}\n",
      "0.938 + or -0.049 for the {'max_depth': 8, 'n_estimators': 10}\n",
      "0.938 + or -0.049 for the {'max_depth': 8, 'n_estimators': 50}\n",
      "0.938 + or -0.049 for the {'max_depth': 8, 'n_estimators': 100}\n",
      "0.938 + or -0.049 for the {'max_depth': 8, 'n_estimators': 250}\n",
      "0.938 + or -0.049 for the {'max_depth': 16, 'n_estimators': 5}\n",
      "0.938 + or -0.049 for the {'max_depth': 16, 'n_estimators': 10}\n",
      "0.938 + or -0.049 for the {'max_depth': 16, 'n_estimators': 50}\n",
      "0.938 + or -0.049 for the {'max_depth': 16, 'n_estimators': 100}\n",
      "0.938 + or -0.049 for the {'max_depth': 16, 'n_estimators': 250}\n",
      "0.938 + or -0.049 for the {'max_depth': 32, 'n_estimators': 5}\n",
      "0.938 + or -0.049 for the {'max_depth': 32, 'n_estimators': 10}\n",
      "0.938 + or -0.049 for the {'max_depth': 32, 'n_estimators': 50}\n",
      "0.938 + or -0.049 for the {'max_depth': 32, 'n_estimators': 100}\n",
      "0.938 + or -0.049 for the {'max_depth': 32, 'n_estimators': 250}\n",
      "0.917 + or -0.061 for the {'max_depth': None, 'n_estimators': 5}\n",
      "0.938 + or -0.049 for the {'max_depth': None, 'n_estimators': 10}\n",
      "0.938 + or -0.049 for the {'max_depth': None, 'n_estimators': 50}\n",
      "0.938 + or -0.049 for the {'max_depth': None, 'n_estimators': 100}\n",
      "0.938 + or -0.049 for the {'max_depth': None, 'n_estimators': 250}\n"
     ]
    }
   ],
   "source": [
    "display(cv)"
   ]
  },
  {
   "cell_type": "markdown",
   "metadata": {},
   "source": [
    "EC: {'max_depth': 4, 'n_estimators': 100}"
   ]
  },
  {
   "cell_type": "markdown",
   "metadata": {},
   "source": [
    "### Perform again for PCA scores"
   ]
  },
  {
   "cell_type": "code",
   "execution_count": 57,
   "metadata": {},
   "outputs": [
    {
     "data": {
      "text/plain": [
       "GridSearchCV(cv=5, estimator=RandomForestClassifier(),\n",
       "             param_grid={'max_depth': [2, 4, 8, 16, 32, None],\n",
       "                         'n_estimators': [5, 10, 50, 100, 250]})"
      ]
     },
     "execution_count": 57,
     "metadata": {},
     "output_type": "execute_result"
    }
   ],
   "source": [
    "from sklearn.model_selection import GridSearchCV\n",
    "cv = GridSearchCV(rfc,parameters,cv=5)\n",
    "cv.fit(pca_train_x,pca_train_y.values.ravel())"
   ]
  },
  {
   "cell_type": "code",
   "execution_count": 58,
   "metadata": {
    "collapsed": true,
    "jupyter": {
     "outputs_hidden": true
    }
   },
   "outputs": [
    {
     "name": "stdout",
     "output_type": "stream",
     "text": [
      "Best parameters are: {'max_depth': 4, 'n_estimators': 100}\n",
      "\n",
      "\n",
      "0.813 + or -0.108 for the {'max_depth': 2, 'n_estimators': 5}\n",
      "0.865 + or -0.061 for the {'max_depth': 2, 'n_estimators': 10}\n",
      "0.855 + or -0.083 for the {'max_depth': 2, 'n_estimators': 50}\n",
      "0.855 + or -0.083 for the {'max_depth': 2, 'n_estimators': 100}\n",
      "0.876 + or -0.069 for the {'max_depth': 2, 'n_estimators': 250}\n",
      "0.897 + or -0.063 for the {'max_depth': 4, 'n_estimators': 5}\n",
      "0.938 + or -0.038 for the {'max_depth': 4, 'n_estimators': 10}\n",
      "0.938 + or -0.019 for the {'max_depth': 4, 'n_estimators': 50}\n",
      "0.948 + or -0.032 for the {'max_depth': 4, 'n_estimators': 100}\n",
      "0.938 + or -0.019 for the {'max_depth': 4, 'n_estimators': 250}\n",
      "0.906 + or -0.061 for the {'max_depth': 8, 'n_estimators': 5}\n",
      "0.948 + or -0.001 for the {'max_depth': 8, 'n_estimators': 10}\n",
      "0.948 + or -0.032 for the {'max_depth': 8, 'n_estimators': 50}\n",
      "0.948 + or -0.032 for the {'max_depth': 8, 'n_estimators': 100}\n",
      "0.948 + or -0.032 for the {'max_depth': 8, 'n_estimators': 250}\n",
      "0.917 + or -0.039 for the {'max_depth': 16, 'n_estimators': 5}\n",
      "0.938 + or -0.038 for the {'max_depth': 16, 'n_estimators': 10}\n",
      "0.948 + or -0.032 for the {'max_depth': 16, 'n_estimators': 50}\n",
      "0.948 + or -0.032 for the {'max_depth': 16, 'n_estimators': 100}\n",
      "0.948 + or -0.032 for the {'max_depth': 16, 'n_estimators': 250}\n",
      "0.948 + or -0.032 for the {'max_depth': 32, 'n_estimators': 5}\n",
      "0.938 + or -0.038 for the {'max_depth': 32, 'n_estimators': 10}\n",
      "0.948 + or -0.032 for the {'max_depth': 32, 'n_estimators': 50}\n",
      "0.948 + or -0.032 for the {'max_depth': 32, 'n_estimators': 100}\n",
      "0.948 + or -0.032 for the {'max_depth': 32, 'n_estimators': 250}\n",
      "0.875 + or -0.103 for the {'max_depth': None, 'n_estimators': 5}\n",
      "0.948 + or -0.032 for the {'max_depth': None, 'n_estimators': 10}\n",
      "0.948 + or -0.032 for the {'max_depth': None, 'n_estimators': 50}\n",
      "0.948 + or -0.032 for the {'max_depth': None, 'n_estimators': 100}\n",
      "0.948 + or -0.032 for the {'max_depth': None, 'n_estimators': 250}\n"
     ]
    }
   ],
   "source": [
    "display(cv)"
   ]
  },
  {
   "cell_type": "markdown",
   "metadata": {},
   "source": [
    "PCA:{'max_depth': 8, 'n_estimators': 50}"
   ]
  },
  {
   "cell_type": "markdown",
   "metadata": {},
   "source": [
    "### Best Random Forest Classifier values for Validation"
   ]
  },
  {
   "cell_type": "markdown",
   "metadata": {},
   "source": [
    "### EC"
   ]
  },
  {
   "cell_type": "code",
   "execution_count": 97,
   "metadata": {},
   "outputs": [],
   "source": [
    "model = RandomForestClassifier()\n",
    "parameters = {\n",
    "    \"n_estimators\":[8],\n",
    "    \"max_depth\":[10]\n",
    "}\n",
    "cv = GridSearchCV(rfc,parameters,cv=5)"
   ]
  },
  {
   "cell_type": "code",
   "execution_count": 98,
   "metadata": {},
   "outputs": [
    {
     "data": {
      "text/plain": [
       "GridSearchCV(cv=5, estimator=RandomForestClassifier(),\n",
       "             param_grid={'max_depth': [10], 'n_estimators': [8]})"
      ]
     },
     "execution_count": 98,
     "metadata": {},
     "output_type": "execute_result"
    }
   ],
   "source": [
    "cv.fit(ec_train_x, ec_train_y)"
   ]
  },
  {
   "cell_type": "code",
   "execution_count": 99,
   "metadata": {},
   "outputs": [],
   "source": [
    "y_pred_strain=cv.predict(ec_test_x)"
   ]
  },
  {
   "cell_type": "code",
   "execution_count": 111,
   "metadata": {},
   "outputs": [
    {
     "name": "stdout",
     "output_type": "stream",
     "text": [
      "Accuracy: 0.875\n"
     ]
    }
   ],
   "source": [
    "from sklearn.metrics import accuracy_score\n",
    "print(\"Accuracy:\",accuracy_score(ec_test_y, y_pred_strain))"
   ]
  },
  {
   "cell_type": "markdown",
   "metadata": {},
   "source": [
    "After Performing Random Forest Classifier Cross validation the best Accuracy is 95.83% for identifying strain"
   ]
  },
  {
   "cell_type": "markdown",
   "metadata": {},
   "source": [
    "### PCA"
   ]
  },
  {
   "cell_type": "code",
   "execution_count": 93,
   "metadata": {},
   "outputs": [],
   "source": [
    "model = RandomForestClassifier()\n",
    "parameters = {\n",
    "    \"n_estimators\":[50],\n",
    "    \"max_depth\":[8]\n",
    "}\n",
    "cv = GridSearchCV(rfc,parameters,cv=5)"
   ]
  },
  {
   "cell_type": "code",
   "execution_count": 94,
   "metadata": {},
   "outputs": [
    {
     "data": {
      "text/plain": [
       "GridSearchCV(cv=5, estimator=RandomForestClassifier(),\n",
       "             param_grid={'max_depth': [8], 'n_estimators': [50]})"
      ]
     },
     "execution_count": 94,
     "metadata": {},
     "output_type": "execute_result"
    }
   ],
   "source": [
    "cv.fit(pca_train_x, pca_train_y)"
   ]
  },
  {
   "cell_type": "code",
   "execution_count": 95,
   "metadata": {},
   "outputs": [],
   "source": [
    "y_pred_strain=cv.predict(pca_test_x)"
   ]
  },
  {
   "cell_type": "code",
   "execution_count": 96,
   "metadata": {},
   "outputs": [
    {
     "name": "stdout",
     "output_type": "stream",
     "text": [
      "Accuracy: 1.0\n"
     ]
    }
   ],
   "source": [
    "from sklearn.metrics import accuracy_score\n",
    "print(\"Accuracy:\",accuracy_score(pca_test_y, y_pred_strain))"
   ]
  },
  {
   "cell_type": "markdown",
   "metadata": {},
   "source": [
    "# Perform ML Model evaulation"
   ]
  },
  {
   "cell_type": "markdown",
   "metadata": {},
   "source": [
    "Confusion Matrix, Classification Report!!!"
   ]
  },
  {
   "cell_type": "markdown",
   "metadata": {},
   "source": [
    "Performance review will need to be done for AutoML models and for Random Classifier\n",
    "\n",
    "For both PCA and for EC strains\n",
    "\n",
    "Try get another AutoML feature done for comparison"
   ]
  },
  {
   "cell_type": "code",
   "execution_count": 112,
   "metadata": {},
   "outputs": [],
   "source": [
    "from sklearn.metrics import classification_report\n",
    "from sklearn.metrics import confusion_matrix"
   ]
  },
  {
   "cell_type": "code",
   "execution_count": 122,
   "metadata": {},
   "outputs": [],
   "source": [
    "#confusion_matrix(y_test, y_pred_test)\n",
    "#print(classification_report(y_test, y_pred_test))"
   ]
  },
  {
   "cell_type": "markdown",
   "metadata": {},
   "source": [
    "### Confusion Matrix for AutoML"
   ]
  },
  {
   "cell_type": "code",
   "execution_count": 123,
   "metadata": {
    "collapsed": true,
    "jupyter": {
     "outputs_hidden": true
    }
   },
   "outputs": [
    {
     "name": "stderr",
     "output_type": "stream",
     "text": [
      "2021-10-27 16:36:42,218 supervised.preprocessing.eda ERROR There was an issue when running EDA. could not convert string to float: 'EC_B'\n"
     ]
    },
    {
     "name": "stdout",
     "output_type": "stream",
     "text": [
      "AutoML directory: AutoML_13\n",
      "The task is binary_classification with evaluation metric logloss\n",
      "AutoML will use algorithms: ['Decision Tree', 'Linear', 'Random Forest']\n",
      "AutoML will ensemble available models\n",
      "AutoML steps: ['simple_algorithms', 'default_algorithms', 'ensemble']\n",
      "* Step simple_algorithms will try to check up to 2 models\n",
      "1_DecisionTree logloss 0.062671 trained in 12.32 seconds\n",
      "2_Linear logloss 0.711443 trained in 3.34 seconds\n",
      "* Step default_algorithms will try to check up to 1 model\n",
      "3_Default_RandomForest logloss 0.215058 trained in 5.24 seconds\n",
      "* Step ensemble will try to check up to 1 model\n",
      "Ensemble logloss 0.062671 trained in 0.23 seconds\n",
      "AutoML fit time: 27.58 seconds\n",
      "AutoML best model: 1_DecisionTree\n"
     ]
    },
    {
     "data": {
      "text/plain": [
       "0     EC_A\n",
       "1     EC_B\n",
       "2     EC_A\n",
       "3     EC_B\n",
       "4     EC_B\n",
       "5     EC_B\n",
       "6     EC_B\n",
       "7     EC_B\n",
       "8     EC_B\n",
       "9     EC_A\n",
       "10    EC_A\n",
       "11    EC_A\n",
       "12    EC_A\n",
       "13    EC_A\n",
       "14    EC_A\n",
       "15    EC_B\n",
       "16    EC_B\n",
       "17    EC_B\n",
       "18    EC_A\n",
       "19    EC_A\n",
       "20    EC_B\n",
       "21    EC_B\n",
       "22    EC_A\n",
       "23    EC_B\n",
       "Name: PredictedStrain, dtype: object"
      ]
     },
     "execution_count": 123,
     "metadata": {},
     "output_type": "execute_result"
    }
   ],
   "source": [
    "from supervised.automl import AutoML\n",
    "automl = AutoML(algorithms=[\"Decision Tree\", \"Linear\", \"Random Forest\"],\n",
    "                total_time_limit=5*60)\n",
    "automl.fit(ec_train_x, ec_train_y)\n",
    "\n",
    "y_predicted = automl.predict(ec_test_x)\n",
    "\n",
    "predicted_strain = pd.DataFrame(y_predicted, columns=[\"PredictedStrain\"])"
   ]
  },
  {
   "cell_type": "code",
   "execution_count": 125,
   "metadata": {},
   "outputs": [
    {
     "data": {
      "text/plain": [
       "array([[11,  1],\n",
       "       [ 0, 12]])"
      ]
     },
     "execution_count": 125,
     "metadata": {},
     "output_type": "execute_result"
    }
   ],
   "source": [
    "confusion_matrix(ec_test_y, predicted_strain)"
   ]
  },
  {
   "cell_type": "code",
   "execution_count": 127,
   "metadata": {},
   "outputs": [
    {
     "data": {
      "text/plain": [
       "EC_A    60\n",
       "EC_B    60\n",
       "Name: Strain, dtype: int64"
      ]
     },
     "execution_count": 127,
     "metadata": {},
     "output_type": "execute_result"
    }
   ],
   "source": [
    "ec_time[\"Strain\"].value_counts()"
   ]
  },
  {
   "cell_type": "code",
   "execution_count": 129,
   "metadata": {
    "jupyter": {
     "source_hidden": true
    }
   },
   "outputs": [
    {
     "data": {
      "image/png": "[encoded data removed]",
      "text/plain": [
       "<Figure size 1152x504 with 2 Axes>"
      ]
     },
     "metadata": {
      "needs_background": "light"
     },
     "output_type": "display_data"
    }
   ],
   "source": [
    "import seaborn as sns\n",
    "import matplotlib.pyplot as plt\n",
    "\n",
    "matrix = confusion_matrix(ec_test_y, predicted_strain)\n",
    "\n",
    "matrix = matrix.astype('float') / matrix.sum(axis=1)[:, np.newaxis]\n",
    "\n",
    "# Build the plot\n",
    "plt.figure(figsize=(16,7))\n",
    "sns.set(font_scale=1.4)\n",
    "sns.heatmap(matrix, annot=True, annot_kws={'size':10},\n",
    "            cmap=plt.cm.Greens, linewidths=0.2)\n",
    "\n",
    "# Add labels to the plot\n",
    "class_names = ['EC_A', 'EC_B']\n",
    "tick_marks = np.arange(len(class_names))\n",
    "tick_marks2 = tick_marks + 0.5\n",
    "plt.xticks(tick_marks, class_names, rotation=25)\n",
    "plt.yticks(tick_marks2, class_names, rotation=0)\n",
    "plt.xlabel('Predicted label')\n",
    "plt.ylabel('True label')\n",
    "plt.title('Confusion Matrix for EC Strain AutoML')\n",
    "plt.show()"
   ]
  },
  {
   "cell_type": "code",
   "execution_count": 130,
   "metadata": {},
   "outputs": [
    {
     "name": "stdout",
     "output_type": "stream",
     "text": [
      "              precision    recall  f1-score   support\n",
      "\n",
      "        EC_A       1.00      0.92      0.96        12\n",
      "        EC_B       0.92      1.00      0.96        12\n",
      "\n",
      "    accuracy                           0.96        24\n",
      "   macro avg       0.96      0.96      0.96        24\n",
      "weighted avg       0.96      0.96      0.96        24\n",
      "\n"
     ]
    }
   ],
   "source": [
    "print(classification_report(ec_test_y, predicted_strain))"
   ]
  },
  {
   "cell_type": "code",
   "execution_count": null,
   "metadata": {},
   "outputs": [],
   "source": []
  },
  {
   "cell_type": "code",
   "execution_count": 141,
   "metadata": {
    "collapsed": true,
    "jupyter": {
     "outputs_hidden": true,
     "source_hidden": true
    }
   },
   "outputs": [
    {
     "name": "stderr",
     "output_type": "stream",
     "text": [
      "2021-10-27 16:50:05,682 supervised.preprocessing.eda ERROR There was an issue when running EDA. could not convert string to float: 'PA.B'\n"
     ]
    },
    {
     "name": "stdout",
     "output_type": "stream",
     "text": [
      "AutoML directory: AutoML_16\n",
      "The task is binary_classification with evaluation metric logloss\n",
      "AutoML will use algorithms: ['Decision Tree', 'Linear', 'Random Forest']\n",
      "AutoML will ensemble available models\n",
      "AutoML steps: ['simple_algorithms', 'default_algorithms', 'ensemble']\n",
      "* Step simple_algorithms will try to check up to 2 models\n",
      "1_DecisionTree logloss 0.407512 trained in 3.84 seconds\n",
      "2_Linear logloss 0.559297 trained in 2.56 seconds\n",
      "* Step default_algorithms will try to check up to 1 model\n",
      "3_Default_RandomForest logloss 0.524965 trained in 4.47 seconds\n",
      "* Step ensemble will try to check up to 1 model\n",
      "Ensemble logloss 0.407512 trained in 0.16 seconds\n",
      "AutoML fit time: 17.41 seconds\n",
      "AutoML best model: 1_DecisionTree\n"
     ]
    }
   ],
   "source": [
    "from supervised.automl import AutoML\n",
    "automl = AutoML(algorithms=[\"Decision Tree\", \"Linear\", \"Random Forest\"],\n",
    "                total_time_limit=5*60)\n",
    "automl.fit(pca_train_x, pca_train_y)\n",
    "\n",
    "y_predicted = automl.predict(pca_test_x)\n",
    "\n",
    "predicted_strain = pd.DataFrame(y_predicted, columns=[\"PredictedStrain\"])"
   ]
  },
  {
   "cell_type": "code",
   "execution_count": 132,
   "metadata": {},
   "outputs": [
    {
     "data": {
      "text/plain": [
       "PA.B    60\n",
       "PA.A    60\n",
       "Name: Strain, dtype: int64"
      ]
     },
     "execution_count": 132,
     "metadata": {},
     "output_type": "execute_result"
    }
   ],
   "source": [
    "pca_time[\"Strain\"].value_counts()"
   ]
  },
  {
   "cell_type": "code",
   "execution_count": 142,
   "metadata": {},
   "outputs": [
    {
     "data": {
      "image/png": "[encoded data removed]",
      "text/plain": [
       "<Figure size 1152x504 with 2 Axes>"
      ]
     },
     "metadata": {},
     "output_type": "display_data"
    }
   ],
   "source": [
    "matrix = confusion_matrix(pca_test_y, predicted_strain)\n",
    "\n",
    "matrix = matrix.astype('float') / matrix.sum(axis=1)[:, np.newaxis]\n",
    "\n",
    "# Build the plot\n",
    "plt.figure(figsize=(16,7))\n",
    "sns.set(font_scale=1.4)\n",
    "sns.heatmap(matrix, annot=True, annot_kws={'size':10},\n",
    "            cmap=plt.cm.Greens, linewidths=0.2)\n",
    "\n",
    "# Add labels to the plot\n",
    "class_names = ['PC_A', 'PC_B']\n",
    "tick_marks = np.arange(len(class_names))\n",
    "tick_marks2 = tick_marks + 0.5\n",
    "plt.xticks(tick_marks, class_names, rotation=25)\n",
    "plt.yticks(tick_marks2, class_names, rotation=0)\n",
    "plt.xlabel('Predicted label')\n",
    "plt.ylabel('True label')\n",
    "plt.title('Confusion Matrix for PC Strain AutoML')\n",
    "plt.show()"
   ]
  },
  {
   "cell_type": "code",
   "execution_count": 143,
   "metadata": {},
   "outputs": [
    {
     "name": "stdout",
     "output_type": "stream",
     "text": [
      "              precision    recall  f1-score   support\n",
      "\n",
      "        PA.A       1.00      0.60      0.75        10\n",
      "        PA.B       0.78      1.00      0.88        14\n",
      "\n",
      "    accuracy                           0.83        24\n",
      "   macro avg       0.89      0.80      0.81        24\n",
      "weighted avg       0.87      0.83      0.82        24\n",
      "\n"
     ]
    }
   ],
   "source": [
    "print(classification_report(pca_test_y, predicted_strain))"
   ]
  },
  {
   "cell_type": "markdown",
   "metadata": {},
   "source": [
    "### Evaluation of Random Forest Classifier"
   ]
  },
  {
   "cell_type": "markdown",
   "metadata": {},
   "source": [
    "EC"
   ]
  },
  {
   "cell_type": "code",
   "execution_count": 148,
   "metadata": {},
   "outputs": [
    {
     "data": {
      "image/png": "[encoded data removed]",
      "text/plain": [
       "<Figure size 1152x504 with 2 Axes>"
      ]
     },
     "metadata": {},
     "output_type": "display_data"
    }
   ],
   "source": [
    "model = RandomForestClassifier()\n",
    "model.fit(ec_train_x, ec_train_y)\n",
    "y_pred_strain=model.predict(ec_test_x)\n",
    "\n",
    "matrix = confusion_matrix(ec_test_y, y_pred_strain)\n",
    "\n",
    "matrix = matrix.astype('float') / matrix.sum(axis=1)[:, np.newaxis]\n",
    "\n",
    "# Build the plot\n",
    "plt.figure(figsize=(16,7))\n",
    "sns.set(font_scale=1.4)\n",
    "sns.heatmap(matrix, annot=True, annot_kws={'size':10},\n",
    "            cmap=plt.cm.Greens, linewidths=0.2)\n",
    "\n",
    "# Add labels to the plot\n",
    "class_names = ['EC_A', 'EC_B']\n",
    "tick_marks = np.arange(len(class_names))\n",
    "tick_marks2 = tick_marks + 0.5\n",
    "plt.xticks(tick_marks, class_names, rotation=25)\n",
    "plt.yticks(tick_marks2, class_names, rotation=0)\n",
    "plt.xlabel('Predicted label')\n",
    "plt.ylabel('True label')\n",
    "plt.title('Confusion Matrix for EC Strain AutoML')\n",
    "plt.show()"
   ]
  },
  {
   "cell_type": "code",
   "execution_count": 151,
   "metadata": {},
   "outputs": [
    {
     "name": "stdout",
     "output_type": "stream",
     "text": [
      "              precision    recall  f1-score   support\n",
      "\n",
      "        EC_A       0.80      1.00      0.89        12\n",
      "        EC_B       1.00      0.75      0.86        12\n",
      "\n",
      "    accuracy                           0.88        24\n",
      "   macro avg       0.90      0.88      0.87        24\n",
      "weighted avg       0.90      0.88      0.87        24\n",
      "\n"
     ]
    }
   ],
   "source": [
    "print(classification_report(ec_test_y, y_pred_strain))"
   ]
  },
  {
   "cell_type": "code",
   "execution_count": 152,
   "metadata": {
    "collapsed": true,
    "jupyter": {
     "outputs_hidden": true
    }
   },
   "outputs": [
    {
     "data": {
      "image/png": "[encoded data removed]",
      "text/plain": [
       "<Figure size 1152x504 with 2 Axes>"
      ]
     },
     "metadata": {},
     "output_type": "display_data"
    }
   ],
   "source": [
    "model = RandomForestClassifier()\n",
    "model.fit(pca_train_x, pca_train_y)\n",
    "y_pred_strain=model.predict(pca_test_x)\n",
    "\n",
    "matrix = confusion_matrix(pca_test_y, y_pred_strain)\n",
    "\n",
    "matrix = matrix.astype('float') / matrix.sum(axis=1)[:, np.newaxis]\n",
    "\n",
    "# Build the plot\n",
    "plt.figure(figsize=(16,7))\n",
    "sns.set(font_scale=1.4)\n",
    "sns.heatmap(matrix, annot=True, annot_kws={'size':10},\n",
    "            cmap=plt.cm.Greens, linewidths=0.2)\n",
    "\n",
    "# Add labels to the plot\n",
    "class_names = ['PA.A', 'PA.B']\n",
    "tick_marks = np.arange(len(class_names))\n",
    "tick_marks2 = tick_marks + 0.5\n",
    "plt.xticks(tick_marks, class_names, rotation=25)\n",
    "plt.yticks(tick_marks2, class_names, rotation=0)\n",
    "plt.xlabel('Predicted label')\n",
    "plt.ylabel('True label')\n",
    "plt.title('Confusion Matrix for EC Strain AutoML')\n",
    "plt.show()"
   ]
  },
  {
   "cell_type": "code",
   "execution_count": 153,
   "metadata": {},
   "outputs": [
    {
     "name": "stdout",
     "output_type": "stream",
     "text": [
      "              precision    recall  f1-score   support\n",
      "\n",
      "        PA.A       0.77      1.00      0.87        10\n",
      "        PA.B       1.00      0.79      0.88        14\n",
      "\n",
      "    accuracy                           0.88        24\n",
      "   macro avg       0.88      0.89      0.87        24\n",
      "weighted avg       0.90      0.88      0.88        24\n",
      "\n"
     ]
    }
   ],
   "source": [
    "print(classification_report(pca_test_y, y_pred_strain))"
   ]
  },
  {
   "cell_type": "code",
   "execution_count": null,
   "metadata": {},
   "outputs": [],
   "source": []
  },
  {
   "cell_type": "code",
   "execution_count": null,
   "metadata": {},
   "outputs": [],
   "source": []
  },
  {
   "cell_type": "markdown",
   "metadata": {},
   "source": [
    "### Evaluation for Cross Validated Random Forest Classifiers"
   ]
  },
  {
   "cell_type": "markdown",
   "metadata": {},
   "source": [
    "EC"
   ]
  },
  {
   "cell_type": "code",
   "execution_count": 154,
   "metadata": {
    "jupyter": {
     "source_hidden": true
    }
   },
   "outputs": [
    {
     "data": {
      "image/png": "[encoded data removed]",
      "text/plain": [
       "<Figure size 1152x504 with 2 Axes>"
      ]
     },
     "metadata": {},
     "output_type": "display_data"
    }
   ],
   "source": [
    "model = RandomForestClassifier()\n",
    "parameters = {\n",
    "    \"n_estimators\":[8],\n",
    "    \"max_depth\":[10]\n",
    "}\n",
    "cv = GridSearchCV(rfc,parameters,cv=5)\n",
    "cv.fit(ec_train_x, ec_train_y)\n",
    "y_pred_strain=cv.predict(ec_test_x)\n",
    "\n",
    "matrix = confusion_matrix(ec_test_y, y_pred_strain)\n",
    "\n",
    "matrix = matrix.astype('float') / matrix.sum(axis=1)[:, np.newaxis]\n",
    "\n",
    "# Build the plot\n",
    "plt.figure(figsize=(16,7))\n",
    "sns.set(font_scale=1.4)\n",
    "sns.heatmap(matrix, annot=True, annot_kws={'size':10},\n",
    "            cmap=plt.cm.Greens, linewidths=0.2)\n",
    "\n",
    "# Add labels to the plot\n",
    "class_names = ['EC_A', 'EC_B']\n",
    "tick_marks = np.arange(len(class_names))\n",
    "tick_marks2 = tick_marks + 0.5\n",
    "plt.xticks(tick_marks, class_names, rotation=25)\n",
    "plt.yticks(tick_marks2, class_names, rotation=0)\n",
    "plt.xlabel('Predicted label')\n",
    "plt.ylabel('True label')\n",
    "plt.title('Confusion Matrix for EC Strain AutoML')\n",
    "plt.show()"
   ]
  },
  {
   "cell_type": "code",
   "execution_count": 155,
   "metadata": {},
   "outputs": [
    {
     "name": "stdout",
     "output_type": "stream",
     "text": [
      "              precision    recall  f1-score   support\n",
      "\n",
      "        EC_A       0.75      1.00      0.86        12\n",
      "        EC_B       1.00      0.67      0.80        12\n",
      "\n",
      "    accuracy                           0.83        24\n",
      "   macro avg       0.88      0.83      0.83        24\n",
      "weighted avg       0.88      0.83      0.83        24\n",
      "\n"
     ]
    }
   ],
   "source": [
    "print(classification_report(ec_test_y, y_pred_strain))"
   ]
  },
  {
   "cell_type": "code",
   "execution_count": null,
   "metadata": {},
   "outputs": [],
   "source": []
  },
  {
   "cell_type": "code",
   "execution_count": null,
   "metadata": {},
   "outputs": [],
   "source": []
  },
  {
   "cell_type": "code",
   "execution_count": null,
   "metadata": {},
   "outputs": [],
   "source": []
  },
  {
   "cell_type": "code",
   "execution_count": 156,
   "metadata": {},
   "outputs": [
    {
     "data": {
      "image/png": "[encoded data removed]",
      "text/plain": [
       "<Figure size 1152x504 with 2 Axes>"
      ]
     },
     "metadata": {},
     "output_type": "display_data"
    }
   ],
   "source": [
    "model = RandomForestClassifier()\n",
    "parameters = {\n",
    "    \"n_estimators\":[50],\n",
    "    \"max_depth\":[8]\n",
    "}\n",
    "cv = GridSearchCV(rfc,parameters,cv=5)\n",
    "cv.fit(pca_train_x, pca_train_y)\n",
    "y_pred_strain=cv.predict(pca_test_x)\n",
    "\n",
    "matrix = confusion_matrix(pca_test_y, y_pred_strain)\n",
    "\n",
    "matrix = matrix.astype('float') / matrix.sum(axis=1)[:, np.newaxis]\n",
    "\n",
    "# Build the plot\n",
    "plt.figure(figsize=(16,7))\n",
    "sns.set(font_scale=1.4)\n",
    "sns.heatmap(matrix, annot=True, annot_kws={'size':10},\n",
    "            cmap=plt.cm.Greens, linewidths=0.2)\n",
    "\n",
    "# Add labels to the plot\n",
    "class_names = ['EC_A', 'EC_B']\n",
    "tick_marks = np.arange(len(class_names))\n",
    "tick_marks2 = tick_marks + 0.5\n",
    "plt.xticks(tick_marks, class_names, rotation=25)\n",
    "plt.yticks(tick_marks2, class_names, rotation=0)\n",
    "plt.xlabel('Predicted label')\n",
    "plt.ylabel('True label')\n",
    "plt.title('Confusion Matrix for EC Strain AutoML')\n",
    "plt.show()"
   ]
  },
  {
   "cell_type": "code",
   "execution_count": 157,
   "metadata": {},
   "outputs": [
    {
     "name": "stdout",
     "output_type": "stream",
     "text": [
      "              precision    recall  f1-score   support\n",
      "\n",
      "        PA.A       0.75      0.90      0.82        10\n",
      "        PA.B       0.92      0.79      0.85        14\n",
      "\n",
      "    accuracy                           0.83        24\n",
      "   macro avg       0.83      0.84      0.83        24\n",
      "weighted avg       0.85      0.83      0.83        24\n",
      "\n"
     ]
    }
   ],
   "source": [
    "print(classification_report(pca_test_y, y_pred_strain))"
   ]
  },
  {
   "cell_type": "code",
   "execution_count": null,
   "metadata": {},
   "outputs": [],
   "source": []
  },
  {
   "cell_type": "code",
   "execution_count": null,
   "metadata": {},
   "outputs": [],
   "source": []
  }
 ],
 "metadata": {
  "kernelspec": {
   "display_name": "Python 3",
   "language": "python",
   "name": "python3"
  },
  "language_info": {
   "codemirror_mode": {
    "name": "ipython",
    "version": 3
   },
   "file_extension": ".py",
   "mimetype": "text/x-python",
   "name": "python",
   "nbconvert_exporter": "python",
   "pygments_lexer": "ipython3",
   "version": "3.7.9"
  }
 },
 "nbformat": 4,
 "nbformat_minor": 4
}
